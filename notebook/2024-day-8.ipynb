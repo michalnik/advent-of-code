{
 "cells": [
  {
   "cell_type": "code",
   "execution_count": 11,
   "id": "initial_id",
   "metadata": {},
   "outputs": [],
   "source": [
    "# antenna specific frequency\n",
    "import typing\n",
    "from pydantic import BaseModel, Field\n",
    "\n",
    "\n",
    "Delta: typing.TypeAlias = int\n",
    "VectorDelta: typing.TypeAlias = tuple[int, int]\n",
    "AntiNode: typing.TypeAlias = tuple[int, int]\n",
    "\n",
    "\n",
    "class Point(BaseModel):\n",
    "    value: str = Field(min_length=1, max_length=1, description=\"Value of point in a map\")\n",
    "    x: int\n",
    "    y: int\n",
    "\n",
    "    def __eq__(self, point: \"Point\") -> bool:\n",
    "        return self.x == point.x and self.y == point.y\n",
    "\n",
    "    model_config = {\n",
    "        \"frozen\": True  # to be able to be added to set\n",
    "    }\n",
    "\n",
    "\n",
    "UniqueAntiNodes: typing.TypeAlias = set[Point]\n",
    "\n",
    "\n",
    "class Map(BaseModel):\n",
    "    data: list[Point]\n",
    "    min_point: Point = Point(value=\".\", x=0, y=0)\n",
    "    max_point: Point | None = None\n",
    "\n",
    "    def __init__(self, *args, **kwargs):\n",
    "        if \"data\" not in kwargs:\n",
    "            kwargs[\"data\"] = []\n",
    "        super().__init__(*args, **kwargs)\n",
    "\n",
    "    def has_point(self, point: Point) -> bool | Point:\n",
    "        for _point in self.data:\n",
    "            if _point == point:\n",
    "                break\n",
    "        else:\n",
    "            return False\n",
    "        return _point\n",
    "\n",
    "    def get_point(self, x: int, y: int) -> Point:\n",
    "        point = Point(value=\".\", x=x, y=y)\n",
    "        if _point := self.has_point(point):\n",
    "            return _point\n",
    "        raise ValueError(\"Map has no such a point: \", point)\n",
    "\n",
    "    def is_antenna(self, point: Point) -> bool | str:\n",
    "        if _point := self.has_point(point):\n",
    "            if _point.value != \".\":\n",
    "                return _point.value\n",
    "        return False\n",
    "\n",
    "    def is_out_of_map(self, point: Point) -> bool:\n",
    "        if point.x < self.min_point.x or point.y < self.min_point.y:\n",
    "            return True\n",
    "        if self.max_point is not None:\n",
    "            if point.x > self.max_point.x or point.y > self.max_point.y:\n",
    "                return True\n",
    "        return False\n",
    "\n",
    "    def add_point(self, point: Point):\n",
    "        if self.has_point(point):\n",
    "            raise ValueError(\"Map has already this point: \", point)\n",
    "        if self.is_out_of_map(point):\n",
    "            raise ValueError(\"Trying add point out of map: \", point)\n",
    "        self.data.append(point)\n",
    "\n",
    "    def map_completed(self):\n",
    "        x: int = 0\n",
    "        y: int = 0\n",
    "        for point in self.data:\n",
    "            if x < point.x:\n",
    "                x = point.x\n",
    "            if y < point.y:\n",
    "                y = point.y\n",
    "        else:\n",
    "            self.min_point = self.get_point(0, 0)\n",
    "            self.max_point = self.get_point(x, y)\n",
    "\n",
    "\n",
    "class Vector(BaseModel):\n",
    "    start: Point\n",
    "    end: Point\n",
    "    delta: VectorDelta | None = None\n",
    "\n",
    "    def __init__(self, *args, **kwargs):\n",
    "        super().__init__(*args, **kwargs)\n",
    "        self.delta = self.count_delta()\n",
    "\n",
    "    def count_delta(self) -> VectorDelta:\n",
    "        delta_x: Delta = self.end.x - self.start.x\n",
    "        delta_y: Delta = self.end.y - self.start.y\n",
    "        return (delta_x, delta_y)\n",
    "\n",
    "    def count_antinode(self, mapp: Map) -> list[AntiNode]:\n",
    "        antinodes: list[AntiNode] = []\n",
    "        top_antinode: AntiNode = self.start.x - self.delta[0], self.start.y - self.delta[1]\n",
    "        bottom_antinode: AntiNode = self.end.x + self.delta[0], self.end.y + self.delta[1]\n",
    "        for node in [top_antinode, bottom_antinode]:\n",
    "            try:\n",
    "                point: Point = mapp.get_point(node[0], node[1])\n",
    "                antinodes.append(point)\n",
    "            except ValueError:\n",
    "                # no top antinode here\n",
    "                pass\n",
    "        return antinodes\n",
    "\n",
    "\n",
    "FilePath: typing.TypeAlias = str\n",
    "StreamOfLines: typing.TypeAlias = typing.Iterator[str]\n",
    "\n",
    "\n",
    "class OpenStreamOfLines(typing.Protocol):\n",
    "    def __call__(self, file: FilePath) -> StreamOfLines: ...\n",
    "\n",
    "\n",
    "def open_stream_of_lines(file: FilePath) -> StreamOfLines:\n",
    "    with open(file) as file_handler:\n",
    "        yield from file_handler"
   ]
  },
  {
   "cell_type": "code",
   "execution_count": 12,
   "id": "5df12e66-f95d-4343-b23e-0d697aeaf49f",
   "metadata": {},
   "outputs": [
    {
     "data": {
      "text/html": [
       "<pre style=\"white-space:pre;overflow-x:auto;line-height:normal;font-family:Menlo,'DejaVu Sans Mono',consolas,'Courier New',monospace\"><span style=\"font-weight: bold\">(</span><span style=\"color: #008000; text-decoration-color: #008000\">'Trying add point out of map: '</span>, <span style=\"color: #800080; text-decoration-color: #800080; font-weight: bold\">Point</span><span style=\"font-weight: bold\">(</span><span style=\"color: #808000; text-decoration-color: #808000\">value</span>=<span style=\"color: #008000; text-decoration-color: #008000\">'.'</span>, <span style=\"color: #808000; text-decoration-color: #808000\">x</span>=<span style=\"color: #008080; text-decoration-color: #008080; font-weight: bold\">-1</span>, <span style=\"color: #808000; text-decoration-color: #808000\">y</span>=<span style=\"color: #008080; text-decoration-color: #008080; font-weight: bold\">0</span><span style=\"font-weight: bold\">))</span>\n",
       "</pre>\n"
      ],
      "text/plain": [
       "\u001b[1m(\u001b[0m\u001b[32m'Trying add point out of map: '\u001b[0m, \u001b[1;35mPoint\u001b[0m\u001b[1m(\u001b[0m\u001b[33mvalue\u001b[0m=\u001b[32m'.'\u001b[0m, \u001b[33mx\u001b[0m=\u001b[1;36m-1\u001b[0m, \u001b[33my\u001b[0m=\u001b[1;36m0\u001b[0m\u001b[1m)\u001b[0m\u001b[1m)\u001b[0m\n"
      ]
     },
     "metadata": {},
     "output_type": "display_data"
    },
    {
     "data": {
      "text/html": [
       "<pre style=\"white-space:pre;overflow-x:auto;line-height:normal;font-family:Menlo,'DejaVu Sans Mono',consolas,'Courier New',monospace\"><span style=\"font-weight: bold\">(</span><span style=\"color: #008000; text-decoration-color: #008000\">'Map has already this point: '</span>, <span style=\"color: #800080; text-decoration-color: #800080; font-weight: bold\">Point</span><span style=\"font-weight: bold\">(</span><span style=\"color: #808000; text-decoration-color: #808000\">value</span>=<span style=\"color: #008000; text-decoration-color: #008000\">'.'</span>, <span style=\"color: #808000; text-decoration-color: #808000\">x</span>=<span style=\"color: #008080; text-decoration-color: #008080; font-weight: bold\">0</span>, <span style=\"color: #808000; text-decoration-color: #808000\">y</span>=<span style=\"color: #008080; text-decoration-color: #008080; font-weight: bold\">0</span><span style=\"font-weight: bold\">))</span>\n",
       "</pre>\n"
      ],
      "text/plain": [
       "\u001b[1m(\u001b[0m\u001b[32m'Map has already this point: '\u001b[0m, \u001b[1;35mPoint\u001b[0m\u001b[1m(\u001b[0m\u001b[33mvalue\u001b[0m=\u001b[32m'.'\u001b[0m, \u001b[33mx\u001b[0m=\u001b[1;36m0\u001b[0m, \u001b[33my\u001b[0m=\u001b[1;36m0\u001b[0m\u001b[1m)\u001b[0m\u001b[1m)\u001b[0m\n"
      ]
     },
     "metadata": {},
     "output_type": "display_data"
    },
    {
     "data": {
      "text/html": [
       "<pre style=\"white-space:pre;overflow-x:auto;line-height:normal;font-family:Menlo,'DejaVu Sans Mono',consolas,'Courier New',monospace\"><span style=\"color: #ff0000; text-decoration-color: #ff0000; font-style: italic\">False</span>\n",
       "</pre>\n"
      ],
      "text/plain": [
       "\u001b[3;91mFalse\u001b[0m\n"
      ]
     },
     "metadata": {},
     "output_type": "display_data"
    },
    {
     "data": {
      "text/html": [
       "<pre style=\"white-space:pre;overflow-x:auto;line-height:normal;font-family:Menlo,'DejaVu Sans Mono',consolas,'Courier New',monospace\"><span style=\"color: #800080; text-decoration-color: #800080; font-weight: bold\">Point</span><span style=\"font-weight: bold\">(</span><span style=\"color: #808000; text-decoration-color: #808000\">value</span>=<span style=\"color: #008000; text-decoration-color: #008000\">'.'</span>, <span style=\"color: #808000; text-decoration-color: #808000\">x</span>=<span style=\"color: #008080; text-decoration-color: #008080; font-weight: bold\">0</span>, <span style=\"color: #808000; text-decoration-color: #808000\">y</span>=<span style=\"color: #008080; text-decoration-color: #008080; font-weight: bold\">0</span><span style=\"font-weight: bold\">)</span>\n",
       "</pre>\n"
      ],
      "text/plain": [
       "\u001b[1;35mPoint\u001b[0m\u001b[1m(\u001b[0m\u001b[33mvalue\u001b[0m=\u001b[32m'.'\u001b[0m, \u001b[33mx\u001b[0m=\u001b[1;36m0\u001b[0m, \u001b[33my\u001b[0m=\u001b[1;36m0\u001b[0m\u001b[1m)\u001b[0m\n"
      ]
     },
     "metadata": {},
     "output_type": "display_data"
    },
    {
     "data": {
      "text/html": [
       "<pre style=\"white-space:pre;overflow-x:auto;line-height:normal;font-family:Menlo,'DejaVu Sans Mono',consolas,'Courier New',monospace\"><span style=\"color: #800080; text-decoration-color: #800080; font-weight: bold\">Point</span><span style=\"font-weight: bold\">(</span><span style=\"color: #808000; text-decoration-color: #808000\">value</span>=<span style=\"color: #008000; text-decoration-color: #008000\">'.'</span>, <span style=\"color: #808000; text-decoration-color: #808000\">x</span>=<span style=\"color: #008080; text-decoration-color: #008080; font-weight: bold\">0</span>, <span style=\"color: #808000; text-decoration-color: #808000\">y</span>=<span style=\"color: #008080; text-decoration-color: #008080; font-weight: bold\">0</span><span style=\"font-weight: bold\">)</span>\n",
       "</pre>\n"
      ],
      "text/plain": [
       "\u001b[1;35mPoint\u001b[0m\u001b[1m(\u001b[0m\u001b[33mvalue\u001b[0m=\u001b[32m'.'\u001b[0m, \u001b[33mx\u001b[0m=\u001b[1;36m0\u001b[0m, \u001b[33my\u001b[0m=\u001b[1;36m0\u001b[0m\u001b[1m)\u001b[0m\n"
      ]
     },
     "metadata": {},
     "output_type": "display_data"
    },
    {
     "data": {
      "text/html": [
       "<pre style=\"white-space:pre;overflow-x:auto;line-height:normal;font-family:Menlo,'DejaVu Sans Mono',consolas,'Courier New',monospace\"><span style=\"color: #800080; text-decoration-color: #800080; font-weight: bold\">Point</span><span style=\"font-weight: bold\">(</span><span style=\"color: #808000; text-decoration-color: #808000\">value</span>=<span style=\"color: #008000; text-decoration-color: #008000\">'A'</span>, <span style=\"color: #808000; text-decoration-color: #808000\">x</span>=<span style=\"color: #008080; text-decoration-color: #008080; font-weight: bold\">1</span>, <span style=\"color: #808000; text-decoration-color: #808000\">y</span>=<span style=\"color: #008080; text-decoration-color: #008080; font-weight: bold\">0</span><span style=\"font-weight: bold\">)</span>\n",
       "</pre>\n"
      ],
      "text/plain": [
       "\u001b[1;35mPoint\u001b[0m\u001b[1m(\u001b[0m\u001b[33mvalue\u001b[0m=\u001b[32m'A'\u001b[0m, \u001b[33mx\u001b[0m=\u001b[1;36m1\u001b[0m, \u001b[33my\u001b[0m=\u001b[1;36m0\u001b[0m\u001b[1m)\u001b[0m\n"
      ]
     },
     "metadata": {},
     "output_type": "display_data"
    },
    {
     "data": {
      "text/html": [
       "<pre style=\"white-space:pre;overflow-x:auto;line-height:normal;font-family:Menlo,'DejaVu Sans Mono',consolas,'Courier New',monospace\"><span style=\"font-weight: bold\">(</span><span style=\"color: #008000; text-decoration-color: #008000\">'Map has no such a point: '</span>, <span style=\"color: #800080; text-decoration-color: #800080; font-weight: bold\">Point</span><span style=\"font-weight: bold\">(</span><span style=\"color: #808000; text-decoration-color: #808000\">value</span>=<span style=\"color: #008000; text-decoration-color: #008000\">'.'</span>, <span style=\"color: #808000; text-decoration-color: #808000\">x</span>=<span style=\"color: #008080; text-decoration-color: #008080; font-weight: bold\">1</span>, <span style=\"color: #808000; text-decoration-color: #808000\">y</span>=<span style=\"color: #008080; text-decoration-color: #008080; font-weight: bold\">1</span><span style=\"font-weight: bold\">))</span>\n",
       "</pre>\n"
      ],
      "text/plain": [
       "\u001b[1m(\u001b[0m\u001b[32m'Map has no such a point: '\u001b[0m, \u001b[1;35mPoint\u001b[0m\u001b[1m(\u001b[0m\u001b[33mvalue\u001b[0m=\u001b[32m'.'\u001b[0m, \u001b[33mx\u001b[0m=\u001b[1;36m1\u001b[0m, \u001b[33my\u001b[0m=\u001b[1;36m1\u001b[0m\u001b[1m)\u001b[0m\u001b[1m)\u001b[0m\n"
      ]
     },
     "metadata": {},
     "output_type": "display_data"
    },
    {
     "data": {
      "text/html": [
       "<pre style=\"white-space:pre;overflow-x:auto;line-height:normal;font-family:Menlo,'DejaVu Sans Mono',consolas,'Courier New',monospace\"><span style=\"font-weight: bold\">[</span><span style=\"color: #800080; text-decoration-color: #800080; font-weight: bold\">Point</span><span style=\"font-weight: bold\">(</span><span style=\"color: #808000; text-decoration-color: #808000\">value</span>=<span style=\"color: #008000; text-decoration-color: #008000\">'.'</span>, <span style=\"color: #808000; text-decoration-color: #808000\">x</span>=<span style=\"color: #008080; text-decoration-color: #008080; font-weight: bold\">0</span>, <span style=\"color: #808000; text-decoration-color: #808000\">y</span>=<span style=\"color: #008080; text-decoration-color: #008080; font-weight: bold\">0</span><span style=\"font-weight: bold\">)</span>, <span style=\"color: #800080; text-decoration-color: #800080; font-weight: bold\">Point</span><span style=\"font-weight: bold\">(</span><span style=\"color: #808000; text-decoration-color: #808000\">value</span>=<span style=\"color: #008000; text-decoration-color: #008000\">'A'</span>, <span style=\"color: #808000; text-decoration-color: #808000\">x</span>=<span style=\"color: #008080; text-decoration-color: #008080; font-weight: bold\">1</span>, <span style=\"color: #808000; text-decoration-color: #808000\">y</span>=<span style=\"color: #008080; text-decoration-color: #008080; font-weight: bold\">0</span><span style=\"font-weight: bold\">)]</span>\n",
       "</pre>\n"
      ],
      "text/plain": [
       "\u001b[1m[\u001b[0m\u001b[1;35mPoint\u001b[0m\u001b[1m(\u001b[0m\u001b[33mvalue\u001b[0m=\u001b[32m'.'\u001b[0m, \u001b[33mx\u001b[0m=\u001b[1;36m0\u001b[0m, \u001b[33my\u001b[0m=\u001b[1;36m0\u001b[0m\u001b[1m)\u001b[0m, \u001b[1;35mPoint\u001b[0m\u001b[1m(\u001b[0m\u001b[33mvalue\u001b[0m=\u001b[32m'A'\u001b[0m, \u001b[33mx\u001b[0m=\u001b[1;36m1\u001b[0m, \u001b[33my\u001b[0m=\u001b[1;36m0\u001b[0m\u001b[1m)\u001b[0m\u001b[1m]\u001b[0m\n"
      ]
     },
     "metadata": {},
     "output_type": "display_data"
    },
    {
     "data": {
      "text/html": [
       "<pre style=\"white-space:pre;overflow-x:auto;line-height:normal;font-family:Menlo,'DejaVu Sans Mono',consolas,'Courier New',monospace\"><span style=\"color: #00ff00; text-decoration-color: #00ff00; font-style: italic\">True</span>\n",
       "</pre>\n"
      ],
      "text/plain": [
       "\u001b[3;92mTrue\u001b[0m\n"
      ]
     },
     "metadata": {},
     "output_type": "display_data"
    },
    {
     "data": {
      "text/html": [
       "<pre style=\"white-space:pre;overflow-x:auto;line-height:normal;font-family:Menlo,'DejaVu Sans Mono',consolas,'Courier New',monospace\"><span style=\"color: #ff0000; text-decoration-color: #ff0000; font-style: italic\">False</span>\n",
       "</pre>\n"
      ],
      "text/plain": [
       "\u001b[3;91mFalse\u001b[0m\n"
      ]
     },
     "metadata": {},
     "output_type": "display_data"
    },
    {
     "data": {
      "text/html": [
       "<pre style=\"white-space:pre;overflow-x:auto;line-height:normal;font-family:Menlo,'DejaVu Sans Mono',consolas,'Courier New',monospace\"><span style=\"color: #00ff00; text-decoration-color: #00ff00; font-style: italic\">True</span>\n",
       "</pre>\n"
      ],
      "text/plain": [
       "\u001b[3;92mTrue\u001b[0m\n"
      ]
     },
     "metadata": {},
     "output_type": "display_data"
    },
    {
     "data": {
      "text/html": [
       "<pre style=\"white-space:pre;overflow-x:auto;line-height:normal;font-family:Menlo,'DejaVu Sans Mono',consolas,'Courier New',monospace\">A\n",
       "</pre>\n"
      ],
      "text/plain": [
       "A\n"
      ]
     },
     "metadata": {},
     "output_type": "display_data"
    },
    {
     "data": {
      "text/html": [
       "<pre style=\"white-space:pre;overflow-x:auto;line-height:normal;font-family:Menlo,'DejaVu Sans Mono',consolas,'Courier New',monospace\"><span style=\"color: #800080; text-decoration-color: #800080; font-weight: bold\">Vector</span><span style=\"font-weight: bold\">(</span><span style=\"color: #808000; text-decoration-color: #808000\">start</span>=<span style=\"color: #800080; text-decoration-color: #800080; font-weight: bold\">Point</span><span style=\"font-weight: bold\">(</span><span style=\"color: #808000; text-decoration-color: #808000\">value</span>=<span style=\"color: #008000; text-decoration-color: #008000\">'.'</span>, <span style=\"color: #808000; text-decoration-color: #808000\">x</span>=<span style=\"color: #008080; text-decoration-color: #008080; font-weight: bold\">10</span>, <span style=\"color: #808000; text-decoration-color: #808000\">y</span>=<span style=\"color: #008080; text-decoration-color: #008080; font-weight: bold\">5</span><span style=\"font-weight: bold\">)</span>, <span style=\"color: #808000; text-decoration-color: #808000\">end</span>=<span style=\"color: #800080; text-decoration-color: #800080; font-weight: bold\">Point</span><span style=\"font-weight: bold\">(</span><span style=\"color: #808000; text-decoration-color: #808000\">value</span>=<span style=\"color: #008000; text-decoration-color: #008000\">'.'</span>, <span style=\"color: #808000; text-decoration-color: #808000\">x</span>=<span style=\"color: #008080; text-decoration-color: #008080; font-weight: bold\">5</span>, <span style=\"color: #808000; text-decoration-color: #808000\">y</span>=<span style=\"color: #008080; text-decoration-color: #008080; font-weight: bold\">6</span><span style=\"font-weight: bold\">)</span>, <span style=\"color: #808000; text-decoration-color: #808000\">delta</span>=<span style=\"font-weight: bold\">(</span><span style=\"color: #008080; text-decoration-color: #008080; font-weight: bold\">-5</span>, <span style=\"color: #008080; text-decoration-color: #008080; font-weight: bold\">1</span><span style=\"font-weight: bold\">))</span>\n",
       "</pre>\n"
      ],
      "text/plain": [
       "\u001b[1;35mVector\u001b[0m\u001b[1m(\u001b[0m\u001b[33mstart\u001b[0m=\u001b[1;35mPoint\u001b[0m\u001b[1m(\u001b[0m\u001b[33mvalue\u001b[0m=\u001b[32m'.'\u001b[0m, \u001b[33mx\u001b[0m=\u001b[1;36m10\u001b[0m, \u001b[33my\u001b[0m=\u001b[1;36m5\u001b[0m\u001b[1m)\u001b[0m, \u001b[33mend\u001b[0m=\u001b[1;35mPoint\u001b[0m\u001b[1m(\u001b[0m\u001b[33mvalue\u001b[0m=\u001b[32m'.'\u001b[0m, \u001b[33mx\u001b[0m=\u001b[1;36m5\u001b[0m, \u001b[33my\u001b[0m=\u001b[1;36m6\u001b[0m\u001b[1m)\u001b[0m, \u001b[33mdelta\u001b[0m=\u001b[1m(\u001b[0m\u001b[1;36m-5\u001b[0m, \u001b[1;36m1\u001b[0m\u001b[1m)\u001b[0m\u001b[1m)\u001b[0m\n"
      ]
     },
     "metadata": {},
     "output_type": "display_data"
    },
    {
     "data": {
      "text/html": [
       "<pre style=\"white-space:pre;overflow-x:auto;line-height:normal;font-family:Menlo,'DejaVu Sans Mono',consolas,'Courier New',monospace\"><span style=\"font-weight: bold\">[]</span>\n",
       "</pre>\n"
      ],
      "text/plain": [
       "\u001b[1m[\u001b[0m\u001b[1m]\u001b[0m\n"
      ]
     },
     "metadata": {},
     "output_type": "display_data"
    }
   ],
   "source": [
    "from rich import print\n",
    "mapp = Map()\n",
    "mapp.add_point(Point(value=\".\", x=0, y=0))\n",
    "mapp.add_point(Point(value=\"A\", x=1, y=0))\n",
    "try:\n",
    "    mapp.add_point(Point(value=\".\", x=-1, y=0))\n",
    "except ValueError as exc:\n",
    "    print(exc)\n",
    "try:\n",
    "    mapp.add_point(Point(value=\".\", x=0, y=0))\n",
    "except ValueError as exc:\n",
    "    print(exc)\n",
    "print(mapp.has_point(Point(value=\".\", x=1, y=1)))\n",
    "print(mapp.has_point(Point(value=\"A\", x=0, y=0)))\n",
    "print(mapp.get_point(0,0))\n",
    "print(mapp.get_point(1,0))\n",
    "try:\n",
    "    mapp.get_point(1,1)\n",
    "except ValueError as exc:\n",
    "    print(exc)\n",
    "print(mapp.data)\n",
    "print(mapp.is_out_of_map(Point(value=\".\", x=-1, y=0)))\n",
    "print(mapp.is_out_of_map(Point(value=\".\", x=10, y=10)))\n",
    "mapp.map_completed()\n",
    "print(mapp.is_out_of_map(Point(value=\".\", x=10, y=10)))\n",
    "print(mapp.is_antenna(Point(value=\".\", x=1, y=0)))\n",
    "vector = Vector(start=Point(value=\".\", x=10, y=5), end=Point(value=\".\", x=5, y=6))\n",
    "print(vector)\n",
    "print(vector.count_antinode(mapp))"
   ]
  },
  {
   "cell_type": "code",
   "execution_count": 13,
   "id": "1eaa85be-0c8f-46c9-827f-a85d02d47c88",
   "metadata": {},
   "outputs": [
    {
     "data": {
      "text/html": [
       "<pre style=\"white-space:pre;overflow-x:auto;line-height:normal;font-family:Menlo,'DejaVu Sans Mono',consolas,'Courier New',monospace\">antinodes:  <span style=\"color: #008080; text-decoration-color: #008080; font-weight: bold\">259</span>\n",
       "</pre>\n"
      ],
      "text/plain": [
       "antinodes:  \u001b[1;36m259\u001b[0m\n"
      ]
     },
     "metadata": {},
     "output_type": "display_data"
    }
   ],
   "source": [
    "mapp = Map()\n",
    "for row, line in enumerate(open_stream_of_lines(\"../media/2024-day-8.input\")):\n",
    "    for col, _char in enumerate(line):\n",
    "        if _char != \"\\n\":\n",
    "            mapp.add_point(Point(value=_char, x=col, y=row))\n",
    "mapp.map_completed()\n",
    "\n",
    "vectors: list[Vector] = []\n",
    "for start_idx, start_point in enumerate(mapp.data):\n",
    "    for end_point in mapp.data[start_idx + 1:]:\n",
    "        if start_point.value == end_point.value and start_point.value != \".\":\n",
    "            vectors.append(Vector(start=start_point, end=end_point))\n",
    "\n",
    "antinodes: UniqueAntiNodes = set()\n",
    "for vector in vectors:\n",
    "    for antinode in vector.count_antinode(mapp):\n",
    "        antinodes.add(antinode)\n",
    "\n",
    "# print(vectors)\n",
    "print(\"antinodes: \", len(antinodes))"
   ]
  },
  {
   "cell_type": "code",
   "execution_count": null,
   "id": "ee36b393-148a-4269-9306-069cdc0091c1",
   "metadata": {},
   "outputs": [],
   "source": []
  }
 ],
 "metadata": {
  "kernelspec": {
   "display_name": "Python 3 (ipykernel)",
   "language": "python",
   "name": "python3"
  },
  "language_info": {
   "codemirror_mode": {
    "name": "ipython",
    "version": 3
   },
   "file_extension": ".py",
   "mimetype": "text/x-python",
   "name": "python",
   "nbconvert_exporter": "python",
   "pygments_lexer": "ipython3",
   "version": "3.13.2"
  }
 },
 "nbformat": 4,
 "nbformat_minor": 5
}
