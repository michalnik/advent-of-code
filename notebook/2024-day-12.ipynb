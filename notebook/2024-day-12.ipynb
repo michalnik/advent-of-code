{
 "cells": [
  {
   "cell_type": "code",
   "execution_count": 118,
   "id": "46d2945b-2678-4d4f-b7e0-43e100cb123e",
   "metadata": {
    "scrolled": true
   },
   "outputs": [],
   "source": [
    "import typing\n",
    "\n",
    "\n",
    "FilePath: typing.TypeAlias = str\n",
    "FileContent: typing.TypeAlias = list[str]\n",
    "\n",
    "\n",
    "class FileReader(typing.Protocol):\n",
    "    def __call__(self, file: FilePath) -> FileContent: ...\n",
    "\n",
    "\n",
    "def file_reader(file: FilePath) -> FileContent:\n",
    "    content: FileContent\n",
    "    with open(file) as file_handler:\n",
    "        return [line for line in file_handler.read().splitlines(keepends=False) if len(line) > 0]\n",
    "\n",
    "\n",
    "data_reader: FileReader = file_reader"
   ]
  },
  {
   "cell_type": "code",
   "execution_count": 119,
   "id": "525a7ded-2643-4989-9cfc-c53eb90cbd5f",
   "metadata": {},
   "outputs": [],
   "source": [
    "from rich import print\n",
    "\n",
    "garden_plots: FileContent = data_reader(\"../media/2024-day-12.input\")"
   ]
  },
  {
   "cell_type": "code",
   "execution_count": 120,
   "id": "05037794-4adb-44bd-ad70-a3b6b512cfd1",
   "metadata": {},
   "outputs": [],
   "source": [
    "import uuid\n",
    "from dataclasses import dataclass, field, asdict\n",
    "\n",
    "\n",
    "@dataclass(frozen=True)\n",
    "class Point:\n",
    "    x: int\n",
    "    y: int\n",
    "    plant_type: str\n",
    "\n",
    "\n",
    "@dataclass(frozen=True)\n",
    "class Neighbours:\n",
    "    left: Point | None\n",
    "    right: Point | None\n",
    "    up: Point | None\n",
    "    down: Point | None\n",
    "\n",
    "\n",
    "@dataclass\n",
    "class Region:\n",
    "    _id: uuid.UUID = field(init=False)\n",
    "    points: list[Point] = field(default_factory=list)\n",
    "    area: int | None = None\n",
    "    perimeter: int | None = None\n",
    "    price: int | None = None\n",
    "\n",
    "    def __post_init__(self):\n",
    "        self._id = uuid.uuid4()\n",
    "\n",
    "    def calculate_area(self) -> int:\n",
    "        self.area = len(self.points)\n",
    "        return self.area        \n",
    "\n",
    "    def calculate_price(self) -> int:\n",
    "        if self.perimeter is None:\n",
    "            raise ValueError(\"Perimetr is missing for region: \", self._id)\n",
    "        area: int = self.calculate_area()\n",
    "        self.price = area * self.perimeter\n",
    "        return self.price\n",
    "\n",
    "\n",
    "@dataclass\n",
    "class Grid:\n",
    "    content: FileContent = field(default_factory=list)\n",
    "    data: list[list[Point | None]] = field(default_factory=list)\n",
    "    regions: list[Region] = field(default_factory=list)    \n",
    "\n",
    "    def load_from_file(self, file_content: FileContent):\n",
    "        self.content = file_content\n",
    "        self.data = []\n",
    "        for y, line in enumerate(file_content):\n",
    "            for x, character in enumerate(line):\n",
    "                if x == 0:\n",
    "                    self.data.append([Point(x=x, y=y, plant_type=character)])\n",
    "                else:\n",
    "                    self.data[y].append(Point(x=x, y=y, plant_type=character))\n",
    "\n",
    "    def get_point(self, x: int, y: int) -> Point:\n",
    "        return self.data[y][x]\n",
    "\n",
    "    def get_neighbours(self, point: Point | None, region: bool = False) -> Neighbours | set[Point]:\n",
    "        def region_filter(_point: Point | None) -> Point | None:\n",
    "            if region and _point and _point.plant_type != point.plant_type:\n",
    "                return None\n",
    "            return _point\n",
    "        if point is None:\n",
    "            if region:\n",
    "                return set()\n",
    "            else:\n",
    "                return Neighbours(left=None, right=None, up=None, down=None)\n",
    "        left, right, up, down = None, None, None, None \n",
    "        if point.x > 0:\n",
    "            left = region_filter(self.data[point.y][point.x-1])\n",
    "        if point.x < len(self.data[point.y]) - 1:\n",
    "            right = region_filter(self.data[point.y][point.x+1])\n",
    "        if point.y > 0:\n",
    "            up = region_filter(self.data[point.y-1][point.x])\n",
    "        if point.y < len(self.data) - 1:\n",
    "            down = region_filter(self.data[point.y+1][point.x])\n",
    "        if region:\n",
    "            return set(p for p in [left, right, up, down] if p != None)\n",
    "        else:\n",
    "            return Neighbours(left=left, right=right, up=up, down=down)\n",
    "\n",
    "    def get_perimeter(self, point: Point) -> int:\n",
    "        neighbours: Neighbours = self.get_neighbours(point)\n",
    "        perimeter: int = 0\n",
    "        for _point in asdict(neighbours).values():\n",
    "            if not _point or _point[\"plant_type\"] != point.plant_type:\n",
    "                perimeter += 1\n",
    "        return perimeter\n",
    "\n",
    "    def calculate_perimeter(self) -> int:\n",
    "        perimeter: int = 0\n",
    "        for region in self.regions:\n",
    "            _perimeter: int = 0\n",
    "            for point in region.points:\n",
    "                _perimeter += self.get_perimeter(point)\n",
    "            region.perimeter = _perimeter\n",
    "            perimeter += _perimeter\n",
    "        return perimeter\n",
    "\n",
    "    def calculate_price(self) -> int:\n",
    "        price: int = 0\n",
    "        for region in self.regions:\n",
    "            perimeter: int = 0\n",
    "            for point in region.points:\n",
    "                perimeter += self.get_perimeter(point)\n",
    "            region.perimeter = perimeter\n",
    "            price += region.calculate_price()\n",
    "        return price\n",
    "\n",
    "    def find_region(self, point: Point) -> Region | None:\n",
    "        for region in filter(lambda region: point in region.plots, self.regions):\n",
    "            yield region\n",
    "        return None\n",
    "\n",
    "    def reveal_regions(self):\n",
    "        if self.regions:\n",
    "            return\n",
    "        for y, points in enumerate(self.data):\n",
    "            for x, point in enumerate(points):\n",
    "                if point is None:\n",
    "                    continue\n",
    "                neighbours: set[Point] = set()\n",
    "                _neighbours: set[Point] = set((point,))\n",
    "                while _neighbours:\n",
    "                    _next = set()\n",
    "                    for neighbour in _neighbours:\n",
    "                        self.data[neighbour.y][neighbour.x] = None\n",
    "                        _next.update(self.get_neighbours(neighbour, region=True))\n",
    "                    neighbours.update(_neighbours)\n",
    "                    _neighbours = _next\n",
    "                self.regions.append(Region(points=neighbours))\n",
    "        self.load_from_file(self.content)"
   ]
  },
  {
   "cell_type": "code",
   "execution_count": 121,
   "id": "7d63d0bf-43ef-4a1e-a9d4-3d3987a23266",
   "metadata": {},
   "outputs": [],
   "source": [
    "grid: Grid = Grid()\n",
    "grid.load_from_file(garden_plots)"
   ]
  },
  {
   "cell_type": "code",
   "execution_count": 122,
   "id": "bab8d6fb-883d-495d-b948-1f261957eed5",
   "metadata": {},
   "outputs": [],
   "source": [
    "point = grid.get_point(2,1)\n",
    "neighbours = grid.get_neighbours(point)\n",
    "region_neighbours = grid.get_neighbours(point, region=True)\n",
    "perimeter = grid.get_perimeter(point)"
   ]
  },
  {
   "cell_type": "code",
   "execution_count": 123,
   "id": "34eb4553-a44d-4098-a9d5-4f6a48f54ce5",
   "metadata": {},
   "outputs": [
    {
     "data": {
      "text/html": [
       "<pre style=\"white-space:pre;overflow-x:auto;line-height:normal;font-family:Menlo,'DejaVu Sans Mono',consolas,'Courier New',monospace\"><span style=\"color: #800080; text-decoration-color: #800080; font-weight: bold\">Point</span><span style=\"font-weight: bold\">(</span><span style=\"color: #808000; text-decoration-color: #808000\">x</span>=<span style=\"color: #008080; text-decoration-color: #008080; font-weight: bold\">2</span>, <span style=\"color: #808000; text-decoration-color: #808000\">y</span>=<span style=\"color: #008080; text-decoration-color: #008080; font-weight: bold\">1</span>, <span style=\"color: #808000; text-decoration-color: #808000\">plant_type</span>=<span style=\"color: #008000; text-decoration-color: #008000\">'N'</span><span style=\"font-weight: bold\">)</span>\n",
       "</pre>\n"
      ],
      "text/plain": [
       "\u001B[1;35mPoint\u001B[0m\u001B[1m(\u001B[0m\u001B[33mx\u001B[0m=\u001B[1;36m2\u001B[0m, \u001B[33my\u001B[0m=\u001B[1;36m1\u001B[0m, \u001B[33mplant_type\u001B[0m=\u001B[32m'N'\u001B[0m\u001B[1m)\u001B[0m\n"
      ]
     },
     "metadata": {},
     "output_type": "display_data"
    },
    {
     "data": {
      "text/html": [
       "<pre style=\"white-space:pre;overflow-x:auto;line-height:normal;font-family:Menlo,'DejaVu Sans Mono',consolas,'Courier New',monospace\"><span style=\"color: #800080; text-decoration-color: #800080; font-weight: bold\">Neighbours</span><span style=\"font-weight: bold\">(</span>\n",
       "    <span style=\"color: #808000; text-decoration-color: #808000\">left</span>=<span style=\"color: #800080; text-decoration-color: #800080; font-weight: bold\">Point</span><span style=\"font-weight: bold\">(</span><span style=\"color: #808000; text-decoration-color: #808000\">x</span>=<span style=\"color: #008080; text-decoration-color: #008080; font-weight: bold\">1</span>, <span style=\"color: #808000; text-decoration-color: #808000\">y</span>=<span style=\"color: #008080; text-decoration-color: #008080; font-weight: bold\">1</span>, <span style=\"color: #808000; text-decoration-color: #808000\">plant_type</span>=<span style=\"color: #008000; text-decoration-color: #008000\">'N'</span><span style=\"font-weight: bold\">)</span>,\n",
       "    <span style=\"color: #808000; text-decoration-color: #808000\">right</span>=<span style=\"color: #800080; text-decoration-color: #800080; font-weight: bold\">Point</span><span style=\"font-weight: bold\">(</span><span style=\"color: #808000; text-decoration-color: #808000\">x</span>=<span style=\"color: #008080; text-decoration-color: #008080; font-weight: bold\">3</span>, <span style=\"color: #808000; text-decoration-color: #808000\">y</span>=<span style=\"color: #008080; text-decoration-color: #008080; font-weight: bold\">1</span>, <span style=\"color: #808000; text-decoration-color: #808000\">plant_type</span>=<span style=\"color: #008000; text-decoration-color: #008000\">'N'</span><span style=\"font-weight: bold\">)</span>,\n",
       "    <span style=\"color: #808000; text-decoration-color: #808000\">up</span>=<span style=\"color: #800080; text-decoration-color: #800080; font-weight: bold\">Point</span><span style=\"font-weight: bold\">(</span><span style=\"color: #808000; text-decoration-color: #808000\">x</span>=<span style=\"color: #008080; text-decoration-color: #008080; font-weight: bold\">2</span>, <span style=\"color: #808000; text-decoration-color: #808000\">y</span>=<span style=\"color: #008080; text-decoration-color: #008080; font-weight: bold\">0</span>, <span style=\"color: #808000; text-decoration-color: #808000\">plant_type</span>=<span style=\"color: #008000; text-decoration-color: #008000\">'N'</span><span style=\"font-weight: bold\">)</span>,\n",
       "    <span style=\"color: #808000; text-decoration-color: #808000\">down</span>=<span style=\"color: #800080; text-decoration-color: #800080; font-weight: bold\">Point</span><span style=\"font-weight: bold\">(</span><span style=\"color: #808000; text-decoration-color: #808000\">x</span>=<span style=\"color: #008080; text-decoration-color: #008080; font-weight: bold\">2</span>, <span style=\"color: #808000; text-decoration-color: #808000\">y</span>=<span style=\"color: #008080; text-decoration-color: #008080; font-weight: bold\">2</span>, <span style=\"color: #808000; text-decoration-color: #808000\">plant_type</span>=<span style=\"color: #008000; text-decoration-color: #008000\">'N'</span><span style=\"font-weight: bold\">)</span>\n",
       "<span style=\"font-weight: bold\">)</span>\n",
       "</pre>\n"
      ],
      "text/plain": [
       "\u001B[1;35mNeighbours\u001B[0m\u001B[1m(\u001B[0m\n",
       "    \u001B[33mleft\u001B[0m=\u001B[1;35mPoint\u001B[0m\u001B[1m(\u001B[0m\u001B[33mx\u001B[0m=\u001B[1;36m1\u001B[0m, \u001B[33my\u001B[0m=\u001B[1;36m1\u001B[0m, \u001B[33mplant_type\u001B[0m=\u001B[32m'N'\u001B[0m\u001B[1m)\u001B[0m,\n",
       "    \u001B[33mright\u001B[0m=\u001B[1;35mPoint\u001B[0m\u001B[1m(\u001B[0m\u001B[33mx\u001B[0m=\u001B[1;36m3\u001B[0m, \u001B[33my\u001B[0m=\u001B[1;36m1\u001B[0m, \u001B[33mplant_type\u001B[0m=\u001B[32m'N'\u001B[0m\u001B[1m)\u001B[0m,\n",
       "    \u001B[33mup\u001B[0m=\u001B[1;35mPoint\u001B[0m\u001B[1m(\u001B[0m\u001B[33mx\u001B[0m=\u001B[1;36m2\u001B[0m, \u001B[33my\u001B[0m=\u001B[1;36m0\u001B[0m, \u001B[33mplant_type\u001B[0m=\u001B[32m'N'\u001B[0m\u001B[1m)\u001B[0m,\n",
       "    \u001B[33mdown\u001B[0m=\u001B[1;35mPoint\u001B[0m\u001B[1m(\u001B[0m\u001B[33mx\u001B[0m=\u001B[1;36m2\u001B[0m, \u001B[33my\u001B[0m=\u001B[1;36m2\u001B[0m, \u001B[33mplant_type\u001B[0m=\u001B[32m'N'\u001B[0m\u001B[1m)\u001B[0m\n",
       "\u001B[1m)\u001B[0m\n"
      ]
     },
     "metadata": {},
     "output_type": "display_data"
    },
    {
     "data": {
      "text/html": [
       "<pre style=\"white-space:pre;overflow-x:auto;line-height:normal;font-family:Menlo,'DejaVu Sans Mono',consolas,'Courier New',monospace\">Region neighbours: \n",
       "<span style=\"font-weight: bold\">{</span>\n",
       "    <span style=\"color: #800080; text-decoration-color: #800080; font-weight: bold\">Point</span><span style=\"font-weight: bold\">(</span><span style=\"color: #808000; text-decoration-color: #808000\">x</span>=<span style=\"color: #008080; text-decoration-color: #008080; font-weight: bold\">3</span>, <span style=\"color: #808000; text-decoration-color: #808000\">y</span>=<span style=\"color: #008080; text-decoration-color: #008080; font-weight: bold\">1</span>, <span style=\"color: #808000; text-decoration-color: #808000\">plant_type</span>=<span style=\"color: #008000; text-decoration-color: #008000\">'N'</span><span style=\"font-weight: bold\">)</span>,\n",
       "    <span style=\"color: #800080; text-decoration-color: #800080; font-weight: bold\">Point</span><span style=\"font-weight: bold\">(</span><span style=\"color: #808000; text-decoration-color: #808000\">x</span>=<span style=\"color: #008080; text-decoration-color: #008080; font-weight: bold\">1</span>, <span style=\"color: #808000; text-decoration-color: #808000\">y</span>=<span style=\"color: #008080; text-decoration-color: #008080; font-weight: bold\">1</span>, <span style=\"color: #808000; text-decoration-color: #808000\">plant_type</span>=<span style=\"color: #008000; text-decoration-color: #008000\">'N'</span><span style=\"font-weight: bold\">)</span>,\n",
       "    <span style=\"color: #800080; text-decoration-color: #800080; font-weight: bold\">Point</span><span style=\"font-weight: bold\">(</span><span style=\"color: #808000; text-decoration-color: #808000\">x</span>=<span style=\"color: #008080; text-decoration-color: #008080; font-weight: bold\">2</span>, <span style=\"color: #808000; text-decoration-color: #808000\">y</span>=<span style=\"color: #008080; text-decoration-color: #008080; font-weight: bold\">0</span>, <span style=\"color: #808000; text-decoration-color: #808000\">plant_type</span>=<span style=\"color: #008000; text-decoration-color: #008000\">'N'</span><span style=\"font-weight: bold\">)</span>,\n",
       "    <span style=\"color: #800080; text-decoration-color: #800080; font-weight: bold\">Point</span><span style=\"font-weight: bold\">(</span><span style=\"color: #808000; text-decoration-color: #808000\">x</span>=<span style=\"color: #008080; text-decoration-color: #008080; font-weight: bold\">2</span>, <span style=\"color: #808000; text-decoration-color: #808000\">y</span>=<span style=\"color: #008080; text-decoration-color: #008080; font-weight: bold\">2</span>, <span style=\"color: #808000; text-decoration-color: #808000\">plant_type</span>=<span style=\"color: #008000; text-decoration-color: #008000\">'N'</span><span style=\"font-weight: bold\">)</span>\n",
       "<span style=\"font-weight: bold\">}</span>\n",
       "</pre>\n"
      ],
      "text/plain": [
       "Region neighbours: \n",
       "\u001B[1m{\u001B[0m\n",
       "    \u001B[1;35mPoint\u001B[0m\u001B[1m(\u001B[0m\u001B[33mx\u001B[0m=\u001B[1;36m3\u001B[0m, \u001B[33my\u001B[0m=\u001B[1;36m1\u001B[0m, \u001B[33mplant_type\u001B[0m=\u001B[32m'N'\u001B[0m\u001B[1m)\u001B[0m,\n",
       "    \u001B[1;35mPoint\u001B[0m\u001B[1m(\u001B[0m\u001B[33mx\u001B[0m=\u001B[1;36m1\u001B[0m, \u001B[33my\u001B[0m=\u001B[1;36m1\u001B[0m, \u001B[33mplant_type\u001B[0m=\u001B[32m'N'\u001B[0m\u001B[1m)\u001B[0m,\n",
       "    \u001B[1;35mPoint\u001B[0m\u001B[1m(\u001B[0m\u001B[33mx\u001B[0m=\u001B[1;36m2\u001B[0m, \u001B[33my\u001B[0m=\u001B[1;36m0\u001B[0m, \u001B[33mplant_type\u001B[0m=\u001B[32m'N'\u001B[0m\u001B[1m)\u001B[0m,\n",
       "    \u001B[1;35mPoint\u001B[0m\u001B[1m(\u001B[0m\u001B[33mx\u001B[0m=\u001B[1;36m2\u001B[0m, \u001B[33my\u001B[0m=\u001B[1;36m2\u001B[0m, \u001B[33mplant_type\u001B[0m=\u001B[32m'N'\u001B[0m\u001B[1m)\u001B[0m\n",
       "\u001B[1m}\u001B[0m\n"
      ]
     },
     "metadata": {},
     "output_type": "display_data"
    },
    {
     "data": {
      "text/html": [
       "<pre style=\"white-space:pre;overflow-x:auto;line-height:normal;font-family:Menlo,'DejaVu Sans Mono',consolas,'Courier New',monospace\">Perimeter:  <span style=\"color: #008080; text-decoration-color: #008080; font-weight: bold\">0</span>\n",
       "</pre>\n"
      ],
      "text/plain": [
       "Perimeter:  \u001B[1;36m0\u001B[0m\n"
      ]
     },
     "metadata": {},
     "output_type": "display_data"
    }
   ],
   "source": [
    "print(point)\n",
    "print(neighbours)\n",
    "print(\"Region neighbours: \", region_neighbours)\n",
    "print(\"Perimeter: \", perimeter)"
   ]
  },
  {
   "cell_type": "code",
   "execution_count": 124,
   "id": "e00353d6-3d46-4f52-a493-ebf8bcd01b0f",
   "metadata": {},
   "outputs": [
    {
     "data": {
      "text/html": [
       "<pre style=\"white-space:pre;overflow-x:auto;line-height:normal;font-family:Menlo,'DejaVu Sans Mono',consolas,'Courier New',monospace\">Grid perimeter:  <span style=\"color: #008080; text-decoration-color: #008080; font-weight: bold\">17068</span>\n",
       "</pre>\n"
      ],
      "text/plain": [
       "Grid perimeter:  \u001B[1;36m17068\u001B[0m\n"
      ]
     },
     "metadata": {},
     "output_type": "display_data"
    },
    {
     "data": {
      "text/html": [
       "<pre style=\"white-space:pre;overflow-x:auto;line-height:normal;font-family:Menlo,'DejaVu Sans Mono',consolas,'Courier New',monospace\">Grid price:  <span style=\"color: #008080; text-decoration-color: #008080; font-weight: bold\">1473276</span>\n",
       "</pre>\n"
      ],
      "text/plain": [
       "Grid price:  \u001B[1;36m1473276\u001B[0m\n"
      ]
     },
     "metadata": {},
     "output_type": "display_data"
    }
   ],
   "source": [
    "grid.reveal_regions()\n",
    "print(\"Grid perimeter: \", grid.calculate_perimeter())\n",
    "print(\"Grid price: \", grid.calculate_price())"
   ]
  }
 ],
 "metadata": {
  "kernelspec": {
   "display_name": "Python 3 (ipykernel)",
   "language": "python",
   "name": "python3"
  },
  "language_info": {
   "codemirror_mode": {
    "name": "ipython",
    "version": 3
   },
   "file_extension": ".py",
   "mimetype": "text/x-python",
   "name": "python",
   "nbconvert_exporter": "python",
   "pygments_lexer": "ipython3",
   "version": "3.13.3"
  }
 },
 "nbformat": 4,
 "nbformat_minor": 5
}
