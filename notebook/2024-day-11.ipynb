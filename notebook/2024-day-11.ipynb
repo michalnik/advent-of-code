{
 "cells": [
  {
   "cell_type": "code",
   "execution_count": 1,
   "id": "f6740b64-13d9-45ff-a877-8c5ce221f2ed",
   "metadata": {
    "ExecuteTime": {
     "end_time": "2025-04-20T19:18:47.744649Z",
     "start_time": "2025-04-20T19:18:47.733932Z"
    }
   },
   "outputs": [],
   "source": [
    "import typing\n",
    "\n",
    "from abc import ABC, abstractmethod\n",
    "from dataclasses import dataclass\n",
    "\n",
    "\n",
    "FilePath: typing.TypeAlias = str\n",
    "StreamOfLines: typing.TypeAlias = typing.Iterator[str]\n",
    "\n",
    "\n",
    "class OpenStream(typing.Protocol):\n",
    "    def __call__(self, file: FilePath) -> StreamOfLines: ...\n",
    "\n",
    "\n",
    "def stream_opener(file: FilePath) -> StreamOfLines:\n",
    "    with open(file) as file_handler:\n",
    "       for line in file_handler:\n",
    "           yield line\n",
    "\n",
    "\n",
    "read_char: OpenStream = stream_opener\n",
    "\n",
    "\n",
    "@dataclass\n",
    "class Arrangement:\n",
    "    numbers: list[int]\n",
    "\n",
    "    def add_number(self, number: int):\n",
    "        self.numbers.append(number)\n",
    "\n",
    "    def load_numbers(self, file_opener: OpenStream, file_path: FilePath):\n",
    "        for line in file_opener(file_path):\n",
    "            for word in line.strip().split(\" \"):\n",
    "                number = int(word)\n",
    "                self.add_number(number)\n",
    "\n",
    "\n",
    "\n",
    "class Rule(ABC):\n",
    "    @abstractmethod\n",
    "    def apply(self, number: int) -> Arrangement: ...\n",
    "\n",
    "\n",
    "class ZeroRule(Rule):\n",
    "    def apply(self, number: int) -> Arrangement:\n",
    "        if number == 0:\n",
    "            return Arrangement(numbers=[1])\n",
    "        else:\n",
    "            raise ValueError(f\"The rule: {self.__class__.__name__} cannot apply on number: {number}\")\n",
    "\n",
    "\n",
    "class EvenRule(Rule):\n",
    "    def apply(self, number: int) -> Arrangement:\n",
    "        arrangement: Arrangement = Arrangement(numbers=[])\n",
    "        _number: str = str(number)\n",
    "        length: int = len(_number)\n",
    "        if length % 2 == 0:\n",
    "            nod = int(length / 2)\n",
    "            arrangement.add_number(int(_number[:nod]))\n",
    "            arrangement.add_number(int(_number[nod:]))\n",
    "            return arrangement\n",
    "        else:\n",
    "            raise ValueError(f\"The rule: {self.__class__.__name__} cannot apply on number: {number}\")\n",
    "            \n",
    "\n",
    "\n",
    "class MultipleRule(Rule):\n",
    "    def apply(self, number: int) -> Arrangement:\n",
    "        return Arrangement(numbers=[2024 * number])\n",
    "\n",
    "\n",
    "@dataclass\n",
    "class AppRules[T: Rule]:\n",
    "    rules: list[T: Rule]\n",
    "\n",
    "    def blink(self, arrangement: Arrangement) -> Arrangement:\n",
    "        blink_arrangement: Arrangement = Arrangement(numbers=[])\n",
    "        for number in arrangement.numbers:\n",
    "            for rule in self.rules:\n",
    "                try:\n",
    "                    _arrangement = rule.apply(number)\n",
    "                except ValueError:\n",
    "                    continue\n",
    "                else:\n",
    "                    for _number in _arrangement.numbers:\n",
    "                        blink_arrangement.add_number(_number)\n",
    "                    break\n",
    "        return blink_arrangement"
   ]
  },
  {
   "cell_type": "code",
   "execution_count": 2,
   "id": "93e3d651-ec10-4f3a-b338-c60b3ab06870",
   "metadata": {
    "ExecuteTime": {
     "end_time": "2025-04-20T19:18:47.801957Z",
     "start_time": "2025-04-20T19:18:47.755873Z"
    }
   },
   "outputs": [
    {
     "data": {
      "text/html": [
       "<pre style=\"white-space:pre;overflow-x:auto;line-height:normal;font-family:Menlo,'DejaVu Sans Mono',consolas,'Courier New',monospace\"><span style=\"color: #800080; text-decoration-color: #800080; font-weight: bold\">Arrangement</span><span style=\"font-weight: bold\">(</span><span style=\"color: #808000; text-decoration-color: #808000\">numbers</span>=<span style=\"font-weight: bold\">[</span><span style=\"color: #008080; text-decoration-color: #008080; font-weight: bold\">0</span>, <span style=\"color: #008080; text-decoration-color: #008080; font-weight: bold\">1</span>, <span style=\"color: #008080; text-decoration-color: #008080; font-weight: bold\">10</span>, <span style=\"color: #008080; text-decoration-color: #008080; font-weight: bold\">99</span>, <span style=\"color: #008080; text-decoration-color: #008080; font-weight: bold\">999</span><span style=\"font-weight: bold\">])</span>\n",
       "</pre>\n"
      ],
      "text/plain": [
       "\u001b[1;35mArrangement\u001b[0m\u001b[1m(\u001b[0m\u001b[33mnumbers\u001b[0m=\u001b[1m[\u001b[0m\u001b[1;36m0\u001b[0m, \u001b[1;36m1\u001b[0m, \u001b[1;36m10\u001b[0m, \u001b[1;36m99\u001b[0m, \u001b[1;36m999\u001b[0m\u001b[1m]\u001b[0m\u001b[1m)\u001b[0m\n"
      ]
     },
     "metadata": {},
     "output_type": "display_data"
    }
   ],
   "source": [
    "from rich import print\n",
    "\n",
    "\n",
    "arrangement = Arrangement(numbers=[])\n",
    "arrangement.load_numbers(read_char, \"../media/test.input\")\n",
    "\n",
    "print(arrangement)"
   ]
  },
  {
   "cell_type": "code",
   "execution_count": 3,
   "id": "1fa415b3-8abb-4195-9e71-db6a690bf0ea",
   "metadata": {
    "ExecuteTime": {
     "end_time": "2025-04-20T19:18:47.947883Z",
     "start_time": "2025-04-20T19:18:47.803819Z"
    }
   },
   "outputs": [
    {
     "data": {
      "text/html": [
       "<pre style=\"white-space:pre;overflow-x:auto;line-height:normal;font-family:Menlo,'DejaVu Sans Mono',consolas,'Courier New',monospace\"><span style=\"color: #800080; text-decoration-color: #800080; font-weight: bold\">Arrangement</span><span style=\"font-weight: bold\">(</span><span style=\"color: #808000; text-decoration-color: #808000\">numbers</span>=<span style=\"font-weight: bold\">[</span><span style=\"color: #008080; text-decoration-color: #008080; font-weight: bold\">1</span><span style=\"font-weight: bold\">])</span>\n",
       "</pre>\n"
      ],
      "text/plain": [
       "\u001b[1;35mArrangement\u001b[0m\u001b[1m(\u001b[0m\u001b[33mnumbers\u001b[0m=\u001b[1m[\u001b[0m\u001b[1;36m1\u001b[0m\u001b[1m]\u001b[0m\u001b[1m)\u001b[0m\n"
      ]
     },
     "metadata": {},
     "output_type": "display_data"
    },
    {
     "ename": "ValueError",
     "evalue": "The rule: ZeroRule cannot apply on number: 5",
     "output_type": "error",
     "traceback": [
      "\u001b[1;31m---------------------------------------------------------------------------\u001b[0m",
      "\u001b[1;31mValueError\u001b[0m                                Traceback (most recent call last)",
      "Cell \u001b[1;32mIn[3], line 3\u001b[0m\n\u001b[0;32m      1\u001b[0m zero_rule \u001b[38;5;241m=\u001b[39m ZeroRule()\n\u001b[0;32m      2\u001b[0m \u001b[38;5;28mprint\u001b[39m(zero_rule\u001b[38;5;241m.\u001b[39mapply(\u001b[38;5;241m0\u001b[39m))\n\u001b[1;32m----> 3\u001b[0m \u001b[38;5;28mprint\u001b[39m(\u001b[43mzero_rule\u001b[49m\u001b[38;5;241;43m.\u001b[39;49m\u001b[43mapply\u001b[49m\u001b[43m(\u001b[49m\u001b[38;5;241;43m5\u001b[39;49m\u001b[43m)\u001b[49m)\n",
      "Cell \u001b[1;32mIn[1], line 49\u001b[0m, in \u001b[0;36mZeroRule.apply\u001b[1;34m(self, number)\u001b[0m\n\u001b[0;32m     47\u001b[0m     \u001b[38;5;28;01mreturn\u001b[39;00m Arrangement(numbers\u001b[38;5;241m=\u001b[39m[\u001b[38;5;241m1\u001b[39m])\n\u001b[0;32m     48\u001b[0m \u001b[38;5;28;01melse\u001b[39;00m:\n\u001b[1;32m---> 49\u001b[0m     \u001b[38;5;28;01mraise\u001b[39;00m \u001b[38;5;167;01mValueError\u001b[39;00m(\u001b[38;5;124mf\u001b[39m\u001b[38;5;124m\"\u001b[39m\u001b[38;5;124mThe rule: \u001b[39m\u001b[38;5;132;01m{\u001b[39;00m\u001b[38;5;28mself\u001b[39m\u001b[38;5;241m.\u001b[39m\u001b[38;5;18m__class__\u001b[39m\u001b[38;5;241m.\u001b[39m\u001b[38;5;18m__name__\u001b[39m\u001b[38;5;132;01m}\u001b[39;00m\u001b[38;5;124m cannot apply on number: \u001b[39m\u001b[38;5;132;01m{\u001b[39;00mnumber\u001b[38;5;132;01m}\u001b[39;00m\u001b[38;5;124m\"\u001b[39m)\n",
      "\u001b[1;31mValueError\u001b[0m: The rule: ZeroRule cannot apply on number: 5"
     ]
    }
   ],
   "source": [
    "zero_rule = ZeroRule()\n",
    "print(zero_rule.apply(0))\n",
    "print(zero_rule.apply(5))"
   ]
  },
  {
   "cell_type": "code",
   "execution_count": 4,
   "id": "bbf1d2c0-555c-42d5-8c01-a4dc967f9e50",
   "metadata": {},
   "outputs": [
    {
     "data": {
      "text/html": [
       "<pre style=\"white-space:pre;overflow-x:auto;line-height:normal;font-family:Menlo,'DejaVu Sans Mono',consolas,'Courier New',monospace\"><span style=\"color: #800080; text-decoration-color: #800080; font-weight: bold\">Arrangement</span><span style=\"font-weight: bold\">(</span><span style=\"color: #808000; text-decoration-color: #808000\">numbers</span>=<span style=\"font-weight: bold\">[</span><span style=\"color: #008080; text-decoration-color: #008080; font-weight: bold\">10</span>, <span style=\"color: #008080; text-decoration-color: #008080; font-weight: bold\">0</span><span style=\"font-weight: bold\">])</span>\n",
       "</pre>\n"
      ],
      "text/plain": [
       "\u001b[1;35mArrangement\u001b[0m\u001b[1m(\u001b[0m\u001b[33mnumbers\u001b[0m=\u001b[1m[\u001b[0m\u001b[1;36m10\u001b[0m, \u001b[1;36m0\u001b[0m\u001b[1m]\u001b[0m\u001b[1m)\u001b[0m\n"
      ]
     },
     "metadata": {},
     "output_type": "display_data"
    },
    {
     "ename": "ValueError",
     "evalue": "The rule: EvenRule cannot apply on number: 12345",
     "output_type": "error",
     "traceback": [
      "\u001b[1;31m---------------------------------------------------------------------------\u001b[0m",
      "\u001b[1;31mValueError\u001b[0m                                Traceback (most recent call last)",
      "Cell \u001b[1;32mIn[4], line 3\u001b[0m\n\u001b[0;32m      1\u001b[0m even_rule \u001b[38;5;241m=\u001b[39m EvenRule()\n\u001b[0;32m      2\u001b[0m \u001b[38;5;28mprint\u001b[39m(even_rule\u001b[38;5;241m.\u001b[39mapply(\u001b[38;5;241m1000\u001b[39m))\n\u001b[1;32m----> 3\u001b[0m \u001b[38;5;28mprint\u001b[39m(\u001b[43meven_rule\u001b[49m\u001b[38;5;241;43m.\u001b[39;49m\u001b[43mapply\u001b[49m\u001b[43m(\u001b[49m\u001b[38;5;241;43m12345\u001b[39;49m\u001b[43m)\u001b[49m)\n",
      "Cell \u001b[1;32mIn[1], line 63\u001b[0m, in \u001b[0;36mEvenRule.apply\u001b[1;34m(self, number)\u001b[0m\n\u001b[0;32m     61\u001b[0m     \u001b[38;5;28;01mreturn\u001b[39;00m arrangement\n\u001b[0;32m     62\u001b[0m \u001b[38;5;28;01melse\u001b[39;00m:\n\u001b[1;32m---> 63\u001b[0m     \u001b[38;5;28;01mraise\u001b[39;00m \u001b[38;5;167;01mValueError\u001b[39;00m(\u001b[38;5;124mf\u001b[39m\u001b[38;5;124m\"\u001b[39m\u001b[38;5;124mThe rule: \u001b[39m\u001b[38;5;132;01m{\u001b[39;00m\u001b[38;5;28mself\u001b[39m\u001b[38;5;241m.\u001b[39m\u001b[38;5;18m__class__\u001b[39m\u001b[38;5;241m.\u001b[39m\u001b[38;5;18m__name__\u001b[39m\u001b[38;5;132;01m}\u001b[39;00m\u001b[38;5;124m cannot apply on number: \u001b[39m\u001b[38;5;132;01m{\u001b[39;00mnumber\u001b[38;5;132;01m}\u001b[39;00m\u001b[38;5;124m\"\u001b[39m)\n",
      "\u001b[1;31mValueError\u001b[0m: The rule: EvenRule cannot apply on number: 12345"
     ]
    }
   ],
   "source": [
    "even_rule = EvenRule()\n",
    "print(even_rule.apply(1000))\n",
    "print(even_rule.apply(12345))"
   ]
  },
  {
   "cell_type": "code",
   "execution_count": 5,
   "id": "af408083-b313-4103-bed1-e6178a0adf26",
   "metadata": {},
   "outputs": [
    {
     "data": {
      "text/html": [
       "<pre style=\"white-space:pre;overflow-x:auto;line-height:normal;font-family:Menlo,'DejaVu Sans Mono',consolas,'Courier New',monospace\"><span style=\"color: #800080; text-decoration-color: #800080; font-weight: bold\">Arrangement</span><span style=\"font-weight: bold\">(</span><span style=\"color: #808000; text-decoration-color: #808000\">numbers</span>=<span style=\"font-weight: bold\">[</span><span style=\"color: #008080; text-decoration-color: #008080; font-weight: bold\">6072</span><span style=\"font-weight: bold\">])</span>\n",
       "</pre>\n"
      ],
      "text/plain": [
       "\u001b[1;35mArrangement\u001b[0m\u001b[1m(\u001b[0m\u001b[33mnumbers\u001b[0m=\u001b[1m[\u001b[0m\u001b[1;36m6072\u001b[0m\u001b[1m]\u001b[0m\u001b[1m)\u001b[0m\n"
      ]
     },
     "metadata": {},
     "output_type": "display_data"
    }
   ],
   "source": [
    "multiple_rule = MultipleRule()\n",
    "print(multiple_rule.apply(3))"
   ]
  },
  {
   "cell_type": "code",
   "execution_count": 6,
   "id": "bbb94cf6-f094-497e-8f0b-4da85919a5a3",
   "metadata": {},
   "outputs": [
    {
     "data": {
      "text/html": [
       "<pre style=\"white-space:pre;overflow-x:auto;line-height:normal;font-family:Menlo,'DejaVu Sans Mono',consolas,'Courier New',monospace\"><span style=\"color: #800080; text-decoration-color: #800080; font-weight: bold\">Arrangement</span><span style=\"font-weight: bold\">(</span><span style=\"color: #808000; text-decoration-color: #808000\">numbers</span>=<span style=\"font-weight: bold\">[</span><span style=\"color: #008080; text-decoration-color: #008080; font-weight: bold\">1</span>, <span style=\"color: #008080; text-decoration-color: #008080; font-weight: bold\">2024</span>, <span style=\"color: #008080; text-decoration-color: #008080; font-weight: bold\">1</span>, <span style=\"color: #008080; text-decoration-color: #008080; font-weight: bold\">0</span>, <span style=\"color: #008080; text-decoration-color: #008080; font-weight: bold\">9</span>, <span style=\"color: #008080; text-decoration-color: #008080; font-weight: bold\">9</span>, <span style=\"color: #008080; text-decoration-color: #008080; font-weight: bold\">2021976</span><span style=\"font-weight: bold\">])</span>\n",
       "</pre>\n"
      ],
      "text/plain": [
       "\u001b[1;35mArrangement\u001b[0m\u001b[1m(\u001b[0m\u001b[33mnumbers\u001b[0m=\u001b[1m[\u001b[0m\u001b[1;36m1\u001b[0m, \u001b[1;36m2024\u001b[0m, \u001b[1;36m1\u001b[0m, \u001b[1;36m0\u001b[0m, \u001b[1;36m9\u001b[0m, \u001b[1;36m9\u001b[0m, \u001b[1;36m2021976\u001b[0m\u001b[1m]\u001b[0m\u001b[1m)\u001b[0m\n"
      ]
     },
     "metadata": {},
     "output_type": "display_data"
    }
   ],
   "source": [
    "app_rules = AppRules(rules=[zero_rule, even_rule, multiple_rule])\n",
    "print(app_rules.blink(arrangement))"
   ]
  },
  {
   "cell_type": "code",
   "execution_count": 7,
   "id": "a87ebc22-b0de-4255-b69b-0d6d840633b6",
   "metadata": {},
   "outputs": [
    {
     "data": {
      "text/html": [
       "<pre style=\"white-space:pre;overflow-x:auto;line-height:normal;font-family:Menlo,'DejaVu Sans Mono',consolas,'Courier New',monospace\"><span style=\"color: #800080; text-decoration-color: #800080; font-weight: bold\">Arrangement</span><span style=\"font-weight: bold\">(</span><span style=\"color: #808000; text-decoration-color: #808000\">numbers</span>=<span style=\"font-weight: bold\">[</span><span style=\"color: #008080; text-decoration-color: #008080; font-weight: bold\">253000</span>, <span style=\"color: #008080; text-decoration-color: #008080; font-weight: bold\">1</span>, <span style=\"color: #008080; text-decoration-color: #008080; font-weight: bold\">7</span><span style=\"font-weight: bold\">])</span>\n",
       "</pre>\n"
      ],
      "text/plain": [
       "\u001b[1;35mArrangement\u001b[0m\u001b[1m(\u001b[0m\u001b[33mnumbers\u001b[0m=\u001b[1m[\u001b[0m\u001b[1;36m253000\u001b[0m, \u001b[1;36m1\u001b[0m, \u001b[1;36m7\u001b[0m\u001b[1m]\u001b[0m\u001b[1m)\u001b[0m\n"
      ]
     },
     "metadata": {},
     "output_type": "display_data"
    },
    {
     "data": {
      "text/html": [
       "<pre style=\"white-space:pre;overflow-x:auto;line-height:normal;font-family:Menlo,'DejaVu Sans Mono',consolas,'Courier New',monospace\"><span style=\"color: #800080; text-decoration-color: #800080; font-weight: bold\">Arrangement</span><span style=\"font-weight: bold\">(</span><span style=\"color: #808000; text-decoration-color: #808000\">numbers</span>=<span style=\"font-weight: bold\">[</span><span style=\"color: #008080; text-decoration-color: #008080; font-weight: bold\">253</span>, <span style=\"color: #008080; text-decoration-color: #008080; font-weight: bold\">0</span>, <span style=\"color: #008080; text-decoration-color: #008080; font-weight: bold\">2024</span>, <span style=\"color: #008080; text-decoration-color: #008080; font-weight: bold\">14168</span><span style=\"font-weight: bold\">])</span>\n",
       "</pre>\n"
      ],
      "text/plain": [
       "\u001b[1;35mArrangement\u001b[0m\u001b[1m(\u001b[0m\u001b[33mnumbers\u001b[0m=\u001b[1m[\u001b[0m\u001b[1;36m253\u001b[0m, \u001b[1;36m0\u001b[0m, \u001b[1;36m2024\u001b[0m, \u001b[1;36m14168\u001b[0m\u001b[1m]\u001b[0m\u001b[1m)\u001b[0m\n"
      ]
     },
     "metadata": {},
     "output_type": "display_data"
    },
    {
     "data": {
      "text/html": [
       "<pre style=\"white-space:pre;overflow-x:auto;line-height:normal;font-family:Menlo,'DejaVu Sans Mono',consolas,'Courier New',monospace\"><span style=\"color: #800080; text-decoration-color: #800080; font-weight: bold\">Arrangement</span><span style=\"font-weight: bold\">(</span><span style=\"color: #808000; text-decoration-color: #808000\">numbers</span>=<span style=\"font-weight: bold\">[</span><span style=\"color: #008080; text-decoration-color: #008080; font-weight: bold\">512072</span>, <span style=\"color: #008080; text-decoration-color: #008080; font-weight: bold\">1</span>, <span style=\"color: #008080; text-decoration-color: #008080; font-weight: bold\">20</span>, <span style=\"color: #008080; text-decoration-color: #008080; font-weight: bold\">24</span>, <span style=\"color: #008080; text-decoration-color: #008080; font-weight: bold\">28676032</span><span style=\"font-weight: bold\">])</span>\n",
       "</pre>\n"
      ],
      "text/plain": [
       "\u001b[1;35mArrangement\u001b[0m\u001b[1m(\u001b[0m\u001b[33mnumbers\u001b[0m=\u001b[1m[\u001b[0m\u001b[1;36m512072\u001b[0m, \u001b[1;36m1\u001b[0m, \u001b[1;36m20\u001b[0m, \u001b[1;36m24\u001b[0m, \u001b[1;36m28676032\u001b[0m\u001b[1m]\u001b[0m\u001b[1m)\u001b[0m\n"
      ]
     },
     "metadata": {},
     "output_type": "display_data"
    },
    {
     "data": {
      "text/html": [
       "<pre style=\"white-space:pre;overflow-x:auto;line-height:normal;font-family:Menlo,'DejaVu Sans Mono',consolas,'Courier New',monospace\"><span style=\"color: #800080; text-decoration-color: #800080; font-weight: bold\">Arrangement</span><span style=\"font-weight: bold\">(</span><span style=\"color: #808000; text-decoration-color: #808000\">numbers</span>=<span style=\"font-weight: bold\">[</span><span style=\"color: #008080; text-decoration-color: #008080; font-weight: bold\">512</span>, <span style=\"color: #008080; text-decoration-color: #008080; font-weight: bold\">72</span>, <span style=\"color: #008080; text-decoration-color: #008080; font-weight: bold\">2024</span>, <span style=\"color: #008080; text-decoration-color: #008080; font-weight: bold\">2</span>, <span style=\"color: #008080; text-decoration-color: #008080; font-weight: bold\">0</span>, <span style=\"color: #008080; text-decoration-color: #008080; font-weight: bold\">2</span>, <span style=\"color: #008080; text-decoration-color: #008080; font-weight: bold\">4</span>, <span style=\"color: #008080; text-decoration-color: #008080; font-weight: bold\">2867</span>, <span style=\"color: #008080; text-decoration-color: #008080; font-weight: bold\">6032</span><span style=\"font-weight: bold\">])</span>\n",
       "</pre>\n"
      ],
      "text/plain": [
       "\u001b[1;35mArrangement\u001b[0m\u001b[1m(\u001b[0m\u001b[33mnumbers\u001b[0m=\u001b[1m[\u001b[0m\u001b[1;36m512\u001b[0m, \u001b[1;36m72\u001b[0m, \u001b[1;36m2024\u001b[0m, \u001b[1;36m2\u001b[0m, \u001b[1;36m0\u001b[0m, \u001b[1;36m2\u001b[0m, \u001b[1;36m4\u001b[0m, \u001b[1;36m2867\u001b[0m, \u001b[1;36m6032\u001b[0m\u001b[1m]\u001b[0m\u001b[1m)\u001b[0m\n"
      ]
     },
     "metadata": {},
     "output_type": "display_data"
    },
    {
     "data": {
      "text/html": [
       "<pre style=\"white-space:pre;overflow-x:auto;line-height:normal;font-family:Menlo,'DejaVu Sans Mono',consolas,'Courier New',monospace\"><span style=\"color: #800080; text-decoration-color: #800080; font-weight: bold\">Arrangement</span><span style=\"font-weight: bold\">(</span><span style=\"color: #808000; text-decoration-color: #808000\">numbers</span>=<span style=\"font-weight: bold\">[</span><span style=\"color: #008080; text-decoration-color: #008080; font-weight: bold\">1036288</span>, <span style=\"color: #008080; text-decoration-color: #008080; font-weight: bold\">7</span>, <span style=\"color: #008080; text-decoration-color: #008080; font-weight: bold\">2</span>, <span style=\"color: #008080; text-decoration-color: #008080; font-weight: bold\">20</span>, <span style=\"color: #008080; text-decoration-color: #008080; font-weight: bold\">24</span>, <span style=\"color: #008080; text-decoration-color: #008080; font-weight: bold\">4048</span>, <span style=\"color: #008080; text-decoration-color: #008080; font-weight: bold\">1</span>, <span style=\"color: #008080; text-decoration-color: #008080; font-weight: bold\">4048</span>, <span style=\"color: #008080; text-decoration-color: #008080; font-weight: bold\">8096</span>, <span style=\"color: #008080; text-decoration-color: #008080; font-weight: bold\">28</span>, <span style=\"color: #008080; text-decoration-color: #008080; font-weight: bold\">67</span>, <span style=\"color: #008080; text-decoration-color: #008080; font-weight: bold\">60</span>, <span style=\"color: #008080; text-decoration-color: #008080; font-weight: bold\">32</span><span style=\"font-weight: bold\">])</span>\n",
       "</pre>\n"
      ],
      "text/plain": [
       "\u001b[1;35mArrangement\u001b[0m\u001b[1m(\u001b[0m\u001b[33mnumbers\u001b[0m=\u001b[1m[\u001b[0m\u001b[1;36m1036288\u001b[0m, \u001b[1;36m7\u001b[0m, \u001b[1;36m2\u001b[0m, \u001b[1;36m20\u001b[0m, \u001b[1;36m24\u001b[0m, \u001b[1;36m4048\u001b[0m, \u001b[1;36m1\u001b[0m, \u001b[1;36m4048\u001b[0m, \u001b[1;36m8096\u001b[0m, \u001b[1;36m28\u001b[0m, \u001b[1;36m67\u001b[0m, \u001b[1;36m60\u001b[0m, \u001b[1;36m32\u001b[0m\u001b[1m]\u001b[0m\u001b[1m)\u001b[0m\n"
      ]
     },
     "metadata": {},
     "output_type": "display_data"
    },
    {
     "data": {
      "text/html": [
       "<pre style=\"white-space:pre;overflow-x:auto;line-height:normal;font-family:Menlo,'DejaVu Sans Mono',consolas,'Courier New',monospace\"><span style=\"color: #800080; text-decoration-color: #800080; font-weight: bold\">Arrangement</span><span style=\"font-weight: bold\">(</span><span style=\"color: #808000; text-decoration-color: #808000\">numbers</span>=<span style=\"font-weight: bold\">[</span><span style=\"color: #008080; text-decoration-color: #008080; font-weight: bold\">2097446912</span>, <span style=\"color: #008080; text-decoration-color: #008080; font-weight: bold\">14168</span>, <span style=\"color: #008080; text-decoration-color: #008080; font-weight: bold\">4048</span>, <span style=\"color: #008080; text-decoration-color: #008080; font-weight: bold\">2</span>, <span style=\"color: #008080; text-decoration-color: #008080; font-weight: bold\">0</span>, <span style=\"color: #008080; text-decoration-color: #008080; font-weight: bold\">2</span>, <span style=\"color: #008080; text-decoration-color: #008080; font-weight: bold\">4</span>, <span style=\"color: #008080; text-decoration-color: #008080; font-weight: bold\">40</span>, <span style=\"color: #008080; text-decoration-color: #008080; font-weight: bold\">48</span>, <span style=\"color: #008080; text-decoration-color: #008080; font-weight: bold\">2024</span>, <span style=\"color: #008080; text-decoration-color: #008080; font-weight: bold\">40</span>, <span style=\"color: #008080; text-decoration-color: #008080; font-weight: bold\">48</span>, <span style=\"color: #008080; text-decoration-color: #008080; font-weight: bold\">80</span>, <span style=\"color: #008080; text-decoration-color: #008080; font-weight: bold\">96</span>, <span style=\"color: #008080; text-decoration-color: #008080; font-weight: bold\">2</span>, <span style=\"color: #008080; text-decoration-color: #008080; font-weight: bold\">8</span>, <span style=\"color: #008080; text-decoration-color: #008080; font-weight: bold\">6</span>, <span style=\"color: #008080; text-decoration-color: #008080; font-weight: bold\">7</span>, <span style=\"color: #008080; text-decoration-color: #008080; font-weight: bold\">6</span>, <span style=\"color: #008080; text-decoration-color: #008080; font-weight: bold\">0</span>, <span style=\"color: #008080; text-decoration-color: #008080; font-weight: bold\">3</span>, <span style=\"color: #008080; text-decoration-color: #008080; font-weight: bold\">2</span><span style=\"font-weight: bold\">])</span>\n",
       "</pre>\n"
      ],
      "text/plain": [
       "\u001b[1;35mArrangement\u001b[0m\u001b[1m(\u001b[0m\u001b[33mnumbers\u001b[0m=\u001b[1m[\u001b[0m\u001b[1;36m2097446912\u001b[0m, \u001b[1;36m14168\u001b[0m, \u001b[1;36m4048\u001b[0m, \u001b[1;36m2\u001b[0m, \u001b[1;36m0\u001b[0m, \u001b[1;36m2\u001b[0m, \u001b[1;36m4\u001b[0m, \u001b[1;36m40\u001b[0m, \u001b[1;36m48\u001b[0m, \u001b[1;36m2024\u001b[0m, \u001b[1;36m40\u001b[0m, \u001b[1;36m48\u001b[0m, \u001b[1;36m80\u001b[0m, \u001b[1;36m96\u001b[0m, \u001b[1;36m2\u001b[0m, \u001b[1;36m8\u001b[0m, \u001b[1;36m6\u001b[0m, \u001b[1;36m7\u001b[0m, \u001b[1;36m6\u001b[0m, \u001b[1;36m0\u001b[0m, \u001b[1;36m3\u001b[0m, \u001b[1;36m2\u001b[0m\u001b[1m]\u001b[0m\u001b[1m)\u001b[0m\n"
      ]
     },
     "metadata": {},
     "output_type": "display_data"
    }
   ],
   "source": [
    "arrangement = Arrangement(numbers=[])\n",
    "arrangement.load_numbers(read_char, \"../media/test2.input\")\n",
    "\n",
    "number_of_blinks: int = 6\n",
    "for _ in range(number_of_blinks):\n",
    "    arrangement = app_rules.blink(arrangement)\n",
    "    print(arrangement)"
   ]
  },
  {
   "cell_type": "code",
   "execution_count": 8,
   "id": "148a0366-6f75-43b3-bfb5-07e677e7f42f",
   "metadata": {},
   "outputs": [
    {
     "data": {
      "text/html": [
       "<pre style=\"white-space:pre;overflow-x:auto;line-height:normal;font-family:Menlo,'DejaVu Sans Mono',consolas,'Courier New',monospace\"><span style=\"color: #008080; text-decoration-color: #008080; font-weight: bold\">229043</span>\n",
       "</pre>\n"
      ],
      "text/plain": [
       "\u001b[1;36m229043\u001b[0m\n"
      ]
     },
     "metadata": {},
     "output_type": "display_data"
    }
   ],
   "source": [
    "arrangement = Arrangement(numbers=[])\n",
    "arrangement.load_numbers(read_char, \"../media/2024-day-11.input\")\n",
    "\n",
    "number_of_blinks: int = 25\n",
    "for _ in range(number_of_blinks):\n",
    "    arrangement = app_rules.blink(arrangement)\n",
    "\n",
    "print(len(arrangement.numbers))"
   ]
  }
 ],
 "metadata": {
  "kernelspec": {
   "display_name": "Python 3 (ipykernel)",
   "language": "python",
   "name": "python3"
  },
  "language_info": {
   "codemirror_mode": {
    "name": "ipython",
    "version": 3
   },
   "file_extension": ".py",
   "mimetype": "text/x-python",
   "name": "python",
   "nbconvert_exporter": "python",
   "pygments_lexer": "ipython3",
   "version": "3.13.3"
  }
 },
 "nbformat": 4,
 "nbformat_minor": 5
}
