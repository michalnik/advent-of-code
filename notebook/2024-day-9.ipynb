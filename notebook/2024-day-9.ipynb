{
 "cells": [
  {
   "cell_type": "code",
   "execution_count": 13,
   "id": "8fb002fb-5187-405e-982d-7bd41741cce6",
   "metadata": {},
   "outputs": [],
   "source": [
    "import typing\n",
    "from pydantic import BaseModel\n",
    "\n",
    "\n",
    "STATE_INDICATOR: typing.TypeAlias = typing.Literal[\"file\", \"space\"]\n",
    "\n",
    "\n",
    "FilePath: typing.TypeAlias = str\n",
    "StreamOfChars: typing.TypeAlias = typing.Iterator[str]\n",
    "\n",
    "\n",
    "class DiskCondensed(BaseModel):\n",
    "    layout: list[str] = []\n",
    "    file_id: int = 0\n",
    "    state: STATE_INDICATOR = \"file\"\n",
    "\n",
    "    def tell_size(self):\n",
    "        return len(self.layout)\n",
    "\n",
    "    def switch_state(self):\n",
    "        self.state = \"file\" if self.state == \"space\" else \"space\"\n",
    "\n",
    "    def set_file_id(self):\n",
    "        self.file_id += 1\n",
    "\n",
    "    def add(self, character: str):\n",
    "        factor: int = int(character)\n",
    "        file_id: str = str(self.file_id)\n",
    "        if self.state == \"file\":\n",
    "            self.layout += [file_id for _ in range(factor)]\n",
    "            self.set_file_id()\n",
    "        elif self.state == \"space\":\n",
    "            self.layout += [\".\" for _ in range(factor)]\n",
    "        else:\n",
    "            raise ValueError(\"Wrong state of file system: \", self.state)\n",
    "        self.switch_state()\n",
    "\n",
    "    def move_block(self, position: int):\n",
    "        block: str = self.layout[position]\n",
    "        new_position: int = self.find_first_space(position)\n",
    "        self.layout[new_position] = block\n",
    "        self.layout[position] = \".\"\n",
    "        \n",
    "    def find_first_space(self, position: int) -> int:\n",
    "        if position < 0 or position >= len(self.layout):\n",
    "            raise ValueError(\"Bad usage of method find_first_space\")\n",
    "        for _position, character in enumerate(self.layout[:position]):\n",
    "            if character == \".\":\n",
    "                return _position\n",
    "        else:\n",
    "            raise ValueError(\"There is no free space\")\n",
    "\n",
    "    def defragment(self) -> int:\n",
    "        for _position in range(self.tell_size() - 1, 0, -1):\n",
    "            if self.layout[_position] != \".\":\n",
    "                try:\n",
    "                    self.move_block(_position)\n",
    "                except ValueError as exc:\n",
    "                    print(\"Defragmentation of a disk ended up with: \", exc)\n",
    "                    break\n",
    "        checksum: int = 0\n",
    "        for position, file_id in enumerate(self.layout):\n",
    "            if file_id == \".\":\n",
    "                continue\n",
    "            checksum += position * int(file_id)\n",
    "        return checksum\n",
    "\n",
    "    def short(self):\n",
    "        if self.tell_size() > 50:\n",
    "            return \",\".join(self.layout[:50])\n",
    "        else:\n",
    "            return \",\".join(self.layout)\n",
    "\n",
    "\n",
    "class OpenStreamOfChars(typing.Protocol):\n",
    "    def __call__(self, file: FilePath) -> StreamOfChars: ...\n",
    "\n",
    "\n",
    "def open_stream_of_chars(file: FilePath) -> StreamOfChars:\n",
    "    with open(file) as file_handler:\n",
    "        while character := file_handler.read(1):\n",
    "            if character == \"\\n\":\n",
    "                break\n",
    "            else:\n",
    "                yield character\n",
    "\n",
    "\n",
    "read_char: OpenStreamOfChars = open_stream_of_chars"
   ]
  },
  {
   "cell_type": "code",
   "execution_count": 14,
   "id": "4961e3c4-5a06-45b2-abca-70389f9e84b4",
   "metadata": {},
   "outputs": [
    {
     "data": {
      "text/html": [
       "<pre style=\"white-space:pre;overflow-x:auto;line-height:normal;font-family:Menlo,'DejaVu Sans Mono',consolas,'Courier New',monospace\">Defragmentation of a disk ended up with:  There is no free space\n",
       "</pre>\n"
      ],
      "text/plain": [
       "Defragmentation of a disk ended up with:  There is no free space\n"
      ]
     },
     "metadata": {},
     "output_type": "display_data"
    },
    {
     "data": {
      "text/html": [
       "<pre style=\"white-space:pre;overflow-x:auto;line-height:normal;font-family:Menlo,'DejaVu Sans Mono',consolas,'Courier New',monospace\"><span style=\"color: #008080; text-decoration-color: #008080; font-weight: bold\">6341711060162</span>\n",
       "</pre>\n"
      ],
      "text/plain": [
       "\u001b[1;36m6341711060162\u001b[0m\n"
      ]
     },
     "metadata": {},
     "output_type": "display_data"
    },
    {
     "data": {
      "text/html": [
       "<pre style=\"white-space:pre;overflow-x:auto;line-height:normal;font-family:Menlo,'DejaVu Sans Mono',consolas,'Courier New',monospace\"><span style=\"color: #008080; text-decoration-color: #008080; font-weight: bold\">0</span>,<span style=\"color: #008080; text-decoration-color: #008080; font-weight: bold\">0</span>,<span style=\"color: #008080; text-decoration-color: #008080; font-weight: bold\">0</span>,<span style=\"color: #008080; text-decoration-color: #008080; font-weight: bold\">0</span>,<span style=\"color: #008080; text-decoration-color: #008080; font-weight: bold\">0</span>,<span style=\"color: #008080; text-decoration-color: #008080; font-weight: bold\">9999</span>,<span style=\"color: #008080; text-decoration-color: #008080; font-weight: bold\">9999</span>,<span style=\"color: #008080; text-decoration-color: #008080; font-weight: bold\">9999</span>,<span style=\"color: #008080; text-decoration-color: #008080; font-weight: bold\">9999</span>,<span style=\"color: #008080; text-decoration-color: #008080; font-weight: bold\">9999</span>,<span style=\"color: #008080; text-decoration-color: #008080; font-weight: bold\">9999</span>,<span style=\"color: #008080; text-decoration-color: #008080; font-weight: bold\">9999</span>,<span style=\"color: #008080; text-decoration-color: #008080; font-weight: bold\">1</span>,<span style=\"color: #008080; text-decoration-color: #008080; font-weight: bold\">1</span>,<span style=\"color: #008080; text-decoration-color: #008080; font-weight: bold\">1</span>,<span style=\"color: #008080; text-decoration-color: #008080; font-weight: bold\">1</span>,<span style=\"color: #008080; text-decoration-color: #008080; font-weight: bold\">1</span>,<span style=\"color: #008080; text-decoration-color: #008080; font-weight: bold\">1</span>,<span style=\"color: #008080; text-decoration-color: #008080; font-weight: bold\">1</span>,<span style=\"color: #008080; text-decoration-color: #008080; font-weight: bold\">9999</span>,<span style=\"color: #008080; text-decoration-color: #008080; font-weight: bold\">9998</span>,<span style=\"color: #008080; text-decoration-color: #008080; font-weight: bold\">2</span>,<span style=\"color: #008080; text-decoration-color: #008080; font-weight: bold\">2</span>,<span style=\"color: #008080; text-decoration-color: #008080; font-weight: bold\">2</span>,<span style=\"color: #008080; text-decoration-color: #008080; font-weight: bold\">2</span>,<span style=\"color: #008080; text-decoration-color: #008080; font-weight: bold\">2</span>,<span style=\"color: #008080; text-decoration-color: #008080; font-weight: bold\">2</span>,<span style=\"color: #008080; text-decoration-color: #008080; font-weight: bold\">2</span>,<span style=\"color: #008080; text-decoration-color: #008080; font-weight: bold\">9998</span>,<span style=\"color: #008080; text-decoration-color: #008080; font-weight: bold\">9998</span>,<span style=\"color: #008080; text-decoration-color: #008080; font-weight: bold\">9997</span>,<span style=\"color: #008080; text-decoration-color: #008080; font-weight: bold\">9996</span>,<span style=\"color: #008080; text-decoration-color: #008080; font-weight: bold\">3</span>,<span style=\"color: #008080; text-decoration-color: #008080; font-weight: bold\">3</span>,<span style=\"color: #008080; text-decoration-color: #008080; font-weight: bold\">3</span>,<span style=\"color: #008080; text-decoration-color: #008080; font-weight: bold\">3</span>,<span style=\"color: #008080; text-decoration-color: #008080; font-weight: bold\">3</span>,<span style=\"color: #008080; text-decoration-color: #008080; font-weight: bold\">99</span>\n",
       "<span style=\"color: #008080; text-decoration-color: #008080; font-weight: bold\">96</span>,<span style=\"color: #008080; text-decoration-color: #008080; font-weight: bold\">9996</span>,<span style=\"color: #008080; text-decoration-color: #008080; font-weight: bold\">9996</span>,<span style=\"color: #008080; text-decoration-color: #008080; font-weight: bold\">9996</span>,<span style=\"color: #008080; text-decoration-color: #008080; font-weight: bold\">9996</span>,<span style=\"color: #008080; text-decoration-color: #008080; font-weight: bold\">9995</span>,<span style=\"color: #008080; text-decoration-color: #008080; font-weight: bold\">9995</span>,<span style=\"color: #008080; text-decoration-color: #008080; font-weight: bold\">9995</span>,<span style=\"color: #008080; text-decoration-color: #008080; font-weight: bold\">9995</span>,<span style=\"color: #008080; text-decoration-color: #008080; font-weight: bold\">4</span>,<span style=\"color: #008080; text-decoration-color: #008080; font-weight: bold\">4</span>,<span style=\"color: #008080; text-decoration-color: #008080; font-weight: bold\">4</span>,<span style=\"color: #008080; text-decoration-color: #008080; font-weight: bold\">4</span>\n",
       "</pre>\n"
      ],
      "text/plain": [
       "\u001b[1;36m0\u001b[0m,\u001b[1;36m0\u001b[0m,\u001b[1;36m0\u001b[0m,\u001b[1;36m0\u001b[0m,\u001b[1;36m0\u001b[0m,\u001b[1;36m9999\u001b[0m,\u001b[1;36m9999\u001b[0m,\u001b[1;36m9999\u001b[0m,\u001b[1;36m9999\u001b[0m,\u001b[1;36m9999\u001b[0m,\u001b[1;36m9999\u001b[0m,\u001b[1;36m9999\u001b[0m,\u001b[1;36m1\u001b[0m,\u001b[1;36m1\u001b[0m,\u001b[1;36m1\u001b[0m,\u001b[1;36m1\u001b[0m,\u001b[1;36m1\u001b[0m,\u001b[1;36m1\u001b[0m,\u001b[1;36m1\u001b[0m,\u001b[1;36m9999\u001b[0m,\u001b[1;36m9998\u001b[0m,\u001b[1;36m2\u001b[0m,\u001b[1;36m2\u001b[0m,\u001b[1;36m2\u001b[0m,\u001b[1;36m2\u001b[0m,\u001b[1;36m2\u001b[0m,\u001b[1;36m2\u001b[0m,\u001b[1;36m2\u001b[0m,\u001b[1;36m9998\u001b[0m,\u001b[1;36m9998\u001b[0m,\u001b[1;36m9997\u001b[0m,\u001b[1;36m9996\u001b[0m,\u001b[1;36m3\u001b[0m,\u001b[1;36m3\u001b[0m,\u001b[1;36m3\u001b[0m,\u001b[1;36m3\u001b[0m,\u001b[1;36m3\u001b[0m,\u001b[1;36m99\u001b[0m\n",
       "\u001b[1;36m96\u001b[0m,\u001b[1;36m9996\u001b[0m,\u001b[1;36m9996\u001b[0m,\u001b[1;36m9996\u001b[0m,\u001b[1;36m9996\u001b[0m,\u001b[1;36m9995\u001b[0m,\u001b[1;36m9995\u001b[0m,\u001b[1;36m9995\u001b[0m,\u001b[1;36m9995\u001b[0m,\u001b[1;36m4\u001b[0m,\u001b[1;36m4\u001b[0m,\u001b[1;36m4\u001b[0m,\u001b[1;36m4\u001b[0m\n"
      ]
     },
     "metadata": {},
     "output_type": "display_data"
    },
    {
     "data": {
      "text/html": [
       "<pre style=\"white-space:pre;overflow-x:auto;line-height:normal;font-family:Menlo,'DejaVu Sans Mono',consolas,'Courier New',monospace\">file_id for next insertion:  <span style=\"color: #008080; text-decoration-color: #008080; font-weight: bold\">10000</span>\n",
       "</pre>\n"
      ],
      "text/plain": [
       "file_id for next insertion:  \u001b[1;36m10000\u001b[0m\n"
      ]
     },
     "metadata": {},
     "output_type": "display_data"
    },
    {
     "data": {
      "text/html": [
       "<pre style=\"white-space:pre;overflow-x:auto;line-height:normal;font-family:Menlo,'DejaVu Sans Mono',consolas,'Courier New',monospace\">next disk write state for next insertion:  space\n",
       "</pre>\n"
      ],
      "text/plain": [
       "next disk write state for next insertion:  space\n"
      ]
     },
     "metadata": {},
     "output_type": "display_data"
    }
   ],
   "source": [
    "disk = DiskCondensed()\n",
    "for character in read_char(\"../media/2024-day-9.input\"):\n",
    "    disk.add(character)\n",
    "\n",
    "from rich import print\n",
    "\n",
    "print(disk.defragment())\n",
    "print(disk.short())\n",
    "print(\"file_id for next insertion: \", disk.file_id)\n",
    "print(\"next disk write state for next insertion: \", disk.state)"
   ]
  },
  {
   "cell_type": "code",
   "execution_count": null,
   "id": "bec8f2c6-c819-4ae2-bef0-ee83bfbe64cc",
   "metadata": {},
   "outputs": [],
   "source": []
  }
 ],
 "metadata": {
  "kernelspec": {
   "display_name": "Python 3 (ipykernel)",
   "language": "python",
   "name": "python3"
  },
  "language_info": {
   "codemirror_mode": {
    "name": "ipython",
    "version": 3
   },
   "file_extension": ".py",
   "mimetype": "text/x-python",
   "name": "python",
   "nbconvert_exporter": "python",
   "pygments_lexer": "ipython3",
   "version": "3.13.2"
  }
 },
 "nbformat": 4,
 "nbformat_minor": 5
}
