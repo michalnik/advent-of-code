{
 "cells": [
  {
   "cell_type": "code",
   "execution_count": 12,
   "id": "f6740b64-13d9-45ff-a877-8c5ce221f2ed",
   "metadata": {
    "ExecuteTime": {
     "end_time": "2025-04-20T19:18:47.744649Z",
     "start_time": "2025-04-20T19:18:47.733932Z"
    }
   },
   "outputs": [],
   "source": [
    "import typing\n",
    "\n",
    "\n",
    "FilePath: typing.TypeAlias = str\n",
    "StreamOfLines: typing.TypeAlias = typing.Iterator[str]\n",
    "\n",
    "\n",
    "class OpenStream(typing.Protocol):\n",
    "    def __call__(self, file: FilePath) -> StreamOfLines: ...\n",
    "\n",
    "\n",
    "def stream_opener(file: FilePath) -> StreamOfLines:\n",
    "    with open(file) as file_handler:\n",
    "       for line in file_handler:\n",
    "           yield line\n",
    "\n",
    "\n",
    "read_char: OpenStream = stream_opener"
   ]
  },
  {
   "cell_type": "code",
   "execution_count": 13,
   "id": "90bf405f-1d4d-4f58-9f57-0279d1db639e",
   "metadata": {},
   "outputs": [],
   "source": [
    "from functools import lru_cache\n",
    "from collections import Counter\n",
    "\n",
    "\n",
    "Arrangement: typing.TypeAlias = tuple[str, ...]\n",
    "Stones: typing.TypeAlias = Counter[str]\n",
    "\n",
    "\n",
    "@lru_cache(maxsize=None)\n",
    "def transform(stone: str) -> Arrangement:\n",
    "    if stone == \"0\":\n",
    "        return (\"1\",)\n",
    "    if len(stone) % 2 == 0:\n",
    "        # number of digits in new stone\n",
    "        nod = len(stone) // 2\n",
    "        left_stone = str(int(stone[:nod]))\n",
    "        right_stone = str(int(stone[nod:]))\n",
    "        return (left_stone, right_stone)\n",
    "    return (str(int(stone) * 2024),)\n",
    "\n",
    "\n",
    "def blink(stones: Stones) -> Stones:\n",
    "    new_stones: Stones = Counter()\n",
    "    for stone, count in stones.items():\n",
    "        for _stone in transform(stone):\n",
    "            new_stones[_stone] += count\n",
    "    return new_stones"
   ]
  },
  {
   "cell_type": "code",
   "execution_count": 18,
   "id": "372d6fe5-92cb-4a70-af55-0204f203f6a0",
   "metadata": {},
   "outputs": [
    {
     "data": {
      "text/html": [
       "<pre style=\"white-space:pre;overflow-x:auto;line-height:normal;font-family:Menlo,'DejaVu Sans Mono',consolas,'Courier New',monospace\"><span style=\"font-weight: bold\">[</span><span style=\"color: #008000; text-decoration-color: #008000\">'27'</span>, <span style=\"color: #008000; text-decoration-color: #008000\">'10647'</span>, <span style=\"color: #008000; text-decoration-color: #008000\">'103'</span>, <span style=\"color: #008000; text-decoration-color: #008000\">'9'</span>, <span style=\"color: #008000; text-decoration-color: #008000\">'0'</span>, <span style=\"color: #008000; text-decoration-color: #008000\">'5524'</span>, <span style=\"color: #008000; text-decoration-color: #008000\">'4594227'</span>, <span style=\"color: #008000; text-decoration-color: #008000\">'902936'</span><span style=\"font-weight: bold\">]</span>\n",
       "</pre>\n"
      ],
      "text/plain": [
       "\u001b[1m[\u001b[0m\u001b[32m'27'\u001b[0m, \u001b[32m'10647'\u001b[0m, \u001b[32m'103'\u001b[0m, \u001b[32m'9'\u001b[0m, \u001b[32m'0'\u001b[0m, \u001b[32m'5524'\u001b[0m, \u001b[32m'4594227'\u001b[0m, \u001b[32m'902936'\u001b[0m\u001b[1m]\u001b[0m\n"
      ]
     },
     "metadata": {},
     "output_type": "display_data"
    }
   ],
   "source": [
    "from rich import print\n",
    "\n",
    "numbers: list[str] = []\n",
    "for line in read_char(\"../media/2024-day-11.input\"):\n",
    "    numbers += line.strip().split(\" \")\n",
    "\n",
    "print(numbers)"
   ]
  },
  {
   "cell_type": "code",
   "execution_count": 20,
   "id": "f4e0562b-7d87-4b3d-96c2-ebd0daa1c80d",
   "metadata": {},
   "outputs": [
    {
     "data": {
      "text/html": [
       "<pre style=\"white-space:pre;overflow-x:auto;line-height:normal;font-family:Menlo,'DejaVu Sans Mono',consolas,'Courier New',monospace\">Count of stones: <span style=\"color: #008080; text-decoration-color: #008080; font-weight: bold\">272673043446478</span>\n",
       "</pre>\n"
      ],
      "text/plain": [
       "Count of stones: \u001b[1;36m272673043446478\u001b[0m\n"
      ]
     },
     "metadata": {},
     "output_type": "display_data"
    }
   ],
   "source": [
    "stones = Counter(numbers)\n",
    "for _ in range(75):\n",
    "    stones = blink(stones)\n",
    "\n",
    "print(f\"Count of stones: {sum(stones.values())}\")"
   ]
  },
  {
   "cell_type": "code",
   "execution_count": null,
   "id": "f056df43-c7ec-4f0a-8030-1ee19542ea7c",
   "metadata": {},
   "outputs": [],
   "source": []
  }
 ],
 "metadata": {
  "kernelspec": {
   "display_name": "Python 3 (ipykernel)",
   "language": "python",
   "name": "python3"
  },
  "language_info": {
   "codemirror_mode": {
    "name": "ipython",
    "version": 3
   },
   "file_extension": ".py",
   "mimetype": "text/x-python",
   "name": "python",
   "nbconvert_exporter": "python",
   "pygments_lexer": "ipython3",
   "version": "3.13.3"
  }
 },
 "nbformat": 4,
 "nbformat_minor": 5
}
